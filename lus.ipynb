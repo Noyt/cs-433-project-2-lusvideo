{
  "nbformat": 4,
  "nbformat_minor": 0,
  "metadata": {
    "colab": {
      "name": "lus.ipynb",
      "provenance": [],
      "collapsed_sections": []
    },
    "kernelspec": {
      "name": "python3",
      "display_name": "Python 3"
    }
  },
  "cells": [
    {
      "cell_type": "markdown",
      "metadata": {
        "id": "YapYOP_srblT"
      },
      "source": [
        "# LUS-CS433\n",
        "\n",
        "## 1. Code Exploration\n",
        "\n",
        "### Imports"
      ]
    },
    {
      "cell_type": "code",
      "metadata": {
        "id": "TZoIvD9nJuD1"
      },
      "source": [
        "from __future__ import print_function, division\n",
        "\n",
        "import numpy as np\n",
        "import pandas as pd\n",
        "import torch\n",
        "import torch.nn as nn\n",
        "import torch.optim as optim\n",
        "from torch.optim import lr_scheduler\n",
        "import torchvision\n",
        "from torchvision import datasets, models, transforms\n",
        "import matplotlib.pyplot as plt\n",
        "import time\n",
        "import os\n",
        "import copy\n",
        "import seaborn as sns"
      ],
      "execution_count": null,
      "outputs": []
    },
    {
      "cell_type": "markdown",
      "metadata": {
        "id": "SoHSEUJqzlMR"
      },
      "source": [
        "### Downloading data"
      ]
    },
    {
      "cell_type": "code",
      "metadata": {
        "colab": {
          "base_uri": "https://localhost:8080/"
        },
        "id": "xIBPlJhGK2sr",
        "outputId": "75368c10-1115-4f26-8e9d-fb934ca1c2ce"
      },
      "source": [
        "from google.colab import drive\n",
        "drive.mount('/content/drive')"
      ],
      "execution_count": null,
      "outputs": [
        {
          "output_type": "stream",
          "text": [
            "Mounted at /content/drive\n"
          ],
          "name": "stdout"
        }
      ]
    },
    {
      "cell_type": "code",
      "metadata": {
        "id": "6ERD0M8bL6oh"
      },
      "source": [
        "!unzip /content/drive/My\\ Drive/ppredictus_images.zip"
      ],
      "execution_count": null,
      "outputs": []
    },
    {
      "cell_type": "code",
      "metadata": {
        "id": "BJihymoZNF_Z"
      },
      "source": [
        "image_dataset = datasets.ImageFolder('LUS images')"
      ],
      "execution_count": null,
      "outputs": []
    },
    {
      "cell_type": "code",
      "metadata": {
        "id": "oRGH4HoPHgfy"
      },
      "source": [
        "dataloader = torch.utils.data.DataLoader(image_dataset, batch_size=4,\n",
        "                                             shuffle=True, num_workers=4)"
      ],
      "execution_count": null,
      "outputs": []
    },
    {
      "cell_type": "code",
      "metadata": {
        "id": "zftod_vFKGOz"
      },
      "source": [
        "dataset_size = len(image_dataset)\n",
        "class_names = image_dataset.classes"
      ],
      "execution_count": null,
      "outputs": []
    },
    {
      "cell_type": "code",
      "metadata": {
        "colab": {
          "base_uri": "https://localhost:8080/"
        },
        "id": "Ysu8R91FKbGc",
        "outputId": "44838ac3-7784-4554-84ca-b3046f0b24e2"
      },
      "source": [
        "class_names"
      ],
      "execution_count": null,
      "outputs": [
        {
          "output_type": "execute_result",
          "data": {
            "text/plain": [
              "['negative', 'positive']"
            ]
          },
          "metadata": {
            "tags": []
          },
          "execution_count": 7
        }
      ]
    },
    {
      "cell_type": "markdown",
      "metadata": {
        "id": "PBJ5-wpVMirO"
      },
      "source": [
        "## 2. Data Exploration"
      ]
    },
    {
      "cell_type": "code",
      "metadata": {
        "id": "gpKjKoD8KcT_"
      },
      "source": [
        "diagnostics = pd.read_csv('labels_diagnostic.csv')"
      ],
      "execution_count": null,
      "outputs": []
    },
    {
      "cell_type": "code",
      "metadata": {
        "colab": {
          "base_uri": "https://localhost:8080/",
          "height": 424
        },
        "id": "u1Mri9kjMtqD",
        "outputId": "0f8267da-9c78-4fc9-919c-c1347f4f44bb"
      },
      "source": [
        "# getting the list of names\n",
        "!ls LUS\\ images/negative > neg_names.csv\n",
        "!ls LUS\\ images/positive > pos_names.csv\n",
        "\n",
        "neg = pd.read_csv('neg_names.csv', header=None)\n",
        "pos = pd.read_csv('pos_names.csv', header=None)\n",
        "\n",
        "data = neg.append(pos, ignore_index=True)\n",
        "data"
      ],
      "execution_count": null,
      "outputs": [
        {
          "output_type": "execute_result",
          "data": {
            "text/html": [
              "<div>\n",
              "<style scoped>\n",
              "    .dataframe tbody tr th:only-of-type {\n",
              "        vertical-align: middle;\n",
              "    }\n",
              "\n",
              "    .dataframe tbody tr th {\n",
              "        vertical-align: top;\n",
              "    }\n",
              "\n",
              "    .dataframe thead th {\n",
              "        text-align: right;\n",
              "    }\n",
              "</style>\n",
              "<table border=\"1\" class=\"dataframe\">\n",
              "  <thead>\n",
              "    <tr style=\"text-align: right;\">\n",
              "      <th></th>\n",
              "      <th>0</th>\n",
              "    </tr>\n",
              "  </thead>\n",
              "  <tbody>\n",
              "    <tr>\n",
              "      <th>0</th>\n",
              "      <td>100_QAID_1.png</td>\n",
              "    </tr>\n",
              "    <tr>\n",
              "      <th>1</th>\n",
              "      <td>100_QAID_2.png</td>\n",
              "    </tr>\n",
              "    <tr>\n",
              "      <th>2</th>\n",
              "      <td>100_QAIG_1.png</td>\n",
              "    </tr>\n",
              "    <tr>\n",
              "      <th>3</th>\n",
              "      <td>100_QAIG_2.png</td>\n",
              "    </tr>\n",
              "    <tr>\n",
              "      <th>4</th>\n",
              "      <td>100_QASD_1.png</td>\n",
              "    </tr>\n",
              "    <tr>\n",
              "      <th>...</th>\n",
              "      <td>...</td>\n",
              "    </tr>\n",
              "    <tr>\n",
              "      <th>3582</th>\n",
              "      <td>final_9_QPIG_2.png</td>\n",
              "    </tr>\n",
              "    <tr>\n",
              "      <th>3583</th>\n",
              "      <td>final_9_QPSD_1.png</td>\n",
              "    </tr>\n",
              "    <tr>\n",
              "      <th>3584</th>\n",
              "      <td>final_9_QPSD_2.png</td>\n",
              "    </tr>\n",
              "    <tr>\n",
              "      <th>3585</th>\n",
              "      <td>final_9_QPSG_1.png</td>\n",
              "    </tr>\n",
              "    <tr>\n",
              "      <th>3586</th>\n",
              "      <td>final_9_QPSG_2.png</td>\n",
              "    </tr>\n",
              "  </tbody>\n",
              "</table>\n",
              "<p>3587 rows × 1 columns</p>\n",
              "</div>"
            ],
            "text/plain": [
              "                       0\n",
              "0         100_QAID_1.png\n",
              "1         100_QAID_2.png\n",
              "2         100_QAIG_1.png\n",
              "3         100_QAIG_2.png\n",
              "4         100_QASD_1.png\n",
              "...                  ...\n",
              "3582  final_9_QPIG_2.png\n",
              "3583  final_9_QPSD_1.png\n",
              "3584  final_9_QPSD_2.png\n",
              "3585  final_9_QPSG_1.png\n",
              "3586  final_9_QPSG_2.png\n",
              "\n",
              "[3587 rows x 1 columns]"
            ]
          },
          "metadata": {
            "tags": []
          },
          "execution_count": 9
        }
      ]
    },
    {
      "cell_type": "code",
      "metadata": {
        "colab": {
          "base_uri": "https://localhost:8080/",
          "height": 424
        },
        "id": "LshRvugQST4a",
        "outputId": "1c760e01-e530-4b22-eaa3-319ee1000f8e"
      },
      "source": [
        "pos = pd.read_csv('pos_names.csv', header=None)\n",
        "\n",
        "# removing .png extension\n",
        "pos[0] = pos[0].apply(lambda x: x[:-4])\n",
        "\n",
        "# extracting site\n",
        "pos[0] = pos[0].apply(lambda x: x.split('_')[2])\n",
        "\n",
        "pos"
      ],
      "execution_count": null,
      "outputs": [
        {
          "output_type": "execute_result",
          "data": {
            "text/html": [
              "<div>\n",
              "<style scoped>\n",
              "    .dataframe tbody tr th:only-of-type {\n",
              "        vertical-align: middle;\n",
              "    }\n",
              "\n",
              "    .dataframe tbody tr th {\n",
              "        vertical-align: top;\n",
              "    }\n",
              "\n",
              "    .dataframe thead th {\n",
              "        text-align: right;\n",
              "    }\n",
              "</style>\n",
              "<table border=\"1\" class=\"dataframe\">\n",
              "  <thead>\n",
              "    <tr style=\"text-align: right;\">\n",
              "      <th></th>\n",
              "      <th>0</th>\n",
              "    </tr>\n",
              "  </thead>\n",
              "  <tbody>\n",
              "    <tr>\n",
              "      <th>0</th>\n",
              "      <td>QAID</td>\n",
              "    </tr>\n",
              "    <tr>\n",
              "      <th>1</th>\n",
              "      <td>QAID</td>\n",
              "    </tr>\n",
              "    <tr>\n",
              "      <th>2</th>\n",
              "      <td>QAIG</td>\n",
              "    </tr>\n",
              "    <tr>\n",
              "      <th>3</th>\n",
              "      <td>QAIG</td>\n",
              "    </tr>\n",
              "    <tr>\n",
              "      <th>4</th>\n",
              "      <td>QASD</td>\n",
              "    </tr>\n",
              "    <tr>\n",
              "      <th>...</th>\n",
              "      <td>...</td>\n",
              "    </tr>\n",
              "    <tr>\n",
              "      <th>2337</th>\n",
              "      <td>QPIG</td>\n",
              "    </tr>\n",
              "    <tr>\n",
              "      <th>2338</th>\n",
              "      <td>QPSD</td>\n",
              "    </tr>\n",
              "    <tr>\n",
              "      <th>2339</th>\n",
              "      <td>QPSD</td>\n",
              "    </tr>\n",
              "    <tr>\n",
              "      <th>2340</th>\n",
              "      <td>QPSG</td>\n",
              "    </tr>\n",
              "    <tr>\n",
              "      <th>2341</th>\n",
              "      <td>QPSG</td>\n",
              "    </tr>\n",
              "  </tbody>\n",
              "</table>\n",
              "<p>2342 rows × 1 columns</p>\n",
              "</div>"
            ],
            "text/plain": [
              "         0\n",
              "0     QAID\n",
              "1     QAID\n",
              "2     QAIG\n",
              "3     QAIG\n",
              "4     QASD\n",
              "...    ...\n",
              "2337  QPIG\n",
              "2338  QPSD\n",
              "2339  QPSD\n",
              "2340  QPSG\n",
              "2341  QPSG\n",
              "\n",
              "[2342 rows x 1 columns]"
            ]
          },
          "metadata": {
            "tags": []
          },
          "execution_count": 10
        }
      ]
    },
    {
      "cell_type": "code",
      "metadata": {
        "colab": {
          "base_uri": "https://localhost:8080/",
          "height": 297
        },
        "id": "u8esaOnKThOY",
        "outputId": "45af4f10-ecd0-4a86-bbda-dc40eb2cbb92"
      },
      "source": [
        "sums = pd.get_dummies(pos).sum()\n",
        "\n",
        "plt.bar(sums.index, sums.values)\n",
        "plt.xlabel('Site')\n",
        "plt.ylabel('Count')\n",
        "plt.tight_layout()"
      ],
      "execution_count": null,
      "outputs": [
        {
          "output_type": "display_data",
          "data": {
            "image/png": "[encoded data removed]",
            "text/plain": [
              "<Figure size 432x288 with 1 Axes>"
            ]
          },
          "metadata": {
            "tags": [],
            "needs_background": "light"
          }
        }
      ]
    },
    {
      "cell_type": "markdown",
      "metadata": {
        "id": "G5jpXz_R_cP8"
      },
      "source": [
        "## 3. Apply mask on Data and sort files"
      ]
    },
    {
      "cell_type": "code",
      "metadata": {
        "id": "CAq_xxIcQAHU"
      },
      "source": [
        "! mkdir LUS_proc_images\n",
        "! mkdir LUS_proc_images/train\n",
        "! mkdir LUS_proc_images/val\n",
        "! mkdir LUS_proc_images/train/true\n",
        "! mkdir LUS_proc_images/train/false\n",
        "! mkdir LUS_proc_images/val/true\n",
        "! mkdir LUS_proc_images/val/false "
      ],
      "execution_count": null,
      "outputs": []
    },
    {
      "cell_type": "code",
      "metadata": {
        "id": "RKljqgeha3fb"
      },
      "source": [
        "import cv2"
      ],
      "execution_count": null,
      "outputs": []
    },
    {
      "cell_type": "code",
      "metadata": {
        "id": "eHEyj1ac_FF0"
      },
      "source": [
        "x = cv2.imread('LUS images/negative/117_QAIG_1.png')"
      ],
      "execution_count": null,
      "outputs": []
    },
    {
      "cell_type": "code",
      "metadata": {
        "colab": {
          "base_uri": "https://localhost:8080/"
        },
        "id": "vA43CGXmAD7d",
        "outputId": "db179595-a2e2-46d9-86ac-873292cb6656"
      },
      "source": [
        "nb_rows, nb_cols, rgb = x.shape\n",
        "nb_cols791 = 791\n",
        "print(nb_rows, nb_cols)"
      ],
      "execution_count": null,
      "outputs": [
        {
          "output_type": "stream",
          "text": [
            "1080 804\n"
          ],
          "name": "stdout"
        }
      ]
    },
    {
      "cell_type": "code",
      "metadata": {
        "colab": {
          "base_uri": "https://localhost:8080/"
        },
        "id": "80EzFCQ8b_fY",
        "outputId": "b027b0bb-796e-41b0-dc6d-aadb1e1f256a"
      },
      "source": [
        "for row in range(nb_rows):\n",
        "  for col in range(nb_cols):\n",
        "    if int((-4/5 * row + 300)) == col or int((4/5 * row + len(x[0])-300)) == col or row == 25 or row == 1010 or col == 762:\n",
        "      x[row,col] = [255,0,0]\n",
        "\n",
        "cv2.imwrite(\"lines_example.jpg\",x)"
      ],
      "execution_count": null,
      "outputs": [
        {
          "output_type": "execute_result",
          "data": {
            "text/plain": [
              "True"
            ]
          },
          "metadata": {
            "tags": []
          },
          "execution_count": 16
        }
      ]
    },
    {
      "cell_type": "code",
      "metadata": {
        "id": "w1RkHN7jAgCu"
      },
      "source": [
        "#Create a mask for all images\n",
        "mask804 = np.zeros([1080, 804,3])\n",
        "for row in range(nb_rows):\n",
        "  for col in range(nb_cols):\n",
        "    if row > 25 and row < 1010 and col < 762 and (-4/5 * row) + 300 < col and (4/5 * row) + len(x[0])-300 > col:\n",
        "      mask804[row, col] = [1,1,1]\n"
      ],
      "execution_count": null,
      "outputs": []
    },
    {
      "cell_type": "code",
      "metadata": {
        "id": "zzWja-LWVFwx"
      },
      "source": [
        "mask791 = np.zeros([1080,791, 3])\n",
        "for row in range(nb_rows):\n",
        "  for col in range(nb_cols791):\n",
        "    if row > 25 and row < 1010 and col < 762 and (-4/5 * row + 293) < col and (4/5*row) + len(x[0])-293 > col:\n",
        "      mask791[row, col] = [1,1,1]\n"
      ],
      "execution_count": null,
      "outputs": []
    },
    {
      "cell_type": "code",
      "metadata": {
        "id": "9HjtwX90Q985"
      },
      "source": [
        "import glob\n",
        "def create_samples(num_samples, ratio, path):\n",
        "  images_path = glob.glob(path)\n",
        "  train = int(num_samples * ratio)\n",
        "\n",
        "  for i, image in enumerate(images_path[:num_samples]):\n",
        "    cv2_img = cv2.imread(image)\n",
        "  \n",
        "    if (len(cv2_img[0]) == 791):\n",
        "      masked_img = cv2_img * mask791\n",
        "    else:\n",
        "      masked_img = cv2_img * mask804\n",
        "\n",
        "    if i >= train:\n",
        "      cv2.imwrite(f\"LUS_proc_images/val/true/{image[20:]}\", masked_img)\n",
        "    else:\n",
        "      cv2.imwrite(f\"LUS_proc_images/train/true/{image[20:]}\", masked_img)"
      ],
      "execution_count": null,
      "outputs": []
    },
    {
      "cell_type": "code",
      "metadata": {
        "id": "BwzO-NptULV2"
      },
      "source": [
        "#Make sure that the files are empty\n",
        "! rm -rfv LUS_proc_images/val/true/*\n",
        "! rm -rfv LUS_proc_images/train/true/*\n"
      ],
      "execution_count": null,
      "outputs": []
    },
    {
      "cell_type": "code",
      "metadata": {
        "id": "oTQg1hWIS3KB"
      },
      "source": [
        "#Generates the samples!\n",
        "num_samples = 1245\n",
        "ratio = 0.8\n",
        "path = \"LUS images/negative/*.png\"\n",
        "\n",
        "create_samples(num_samples, ratio, path)"
      ],
      "execution_count": null,
      "outputs": []
    },
    {
      "cell_type": "markdown",
      "metadata": {
        "id": "Efoy13Awt0CN"
      },
      "source": [
        "#### Compute mean brightness over all sample"
      ]
    },
    {
      "cell_type": "code",
      "metadata": {
        "id": "LzgnfG9xH3He"
      },
      "source": [
        "def create_brightness_df(path):\n",
        "  df = pd.DataFrame(columns = ['mean', 'std'])\n",
        "  images_path = glob.glob(path)\n",
        "\n",
        "  for i,image in enumerate(images_path):\n",
        "    img = cv2.imread(image)\n",
        "    m, s = cv2.meanStdDev(img)\n",
        "    df.loc[i] = [m[0,0], s[0,0]]\n",
        "\n",
        "  return df\n"
      ],
      "execution_count": null,
      "outputs": []
    },
    {
      "cell_type": "code",
      "metadata": {
        "id": "yAuH35czwDWy"
      },
      "source": [
        "df = create_brightness_df(\"LUS_proc_images/train/true/*.png\")"
      ],
      "execution_count": null,
      "outputs": []
    },
    {
      "cell_type": "code",
      "metadata": {
        "colab": {
          "base_uri": "https://localhost:8080/",
          "height": 284
        },
        "id": "Rnj8CtNoazDm",
        "outputId": "945d51a8-288a-46f3-ffc6-c9e50ce54ee6"
      },
      "source": [
        "df.boxplot()"
      ],
      "execution_count": null,
      "outputs": [
        {
          "output_type": "execute_result",
          "data": {
            "text/plain": [
              "<matplotlib.axes._subplots.AxesSubplot at 0x7f3f5bc2eac8>"
            ]
          },
          "metadata": {
            "tags": []
          },
          "execution_count": 32
        },
        {
          "output_type": "display_data",
          "data": {
            "image/png": "[encoded data removed]",
            "text/plain": [
              "<Figure size 432x288 with 1 Axes>"
            ]
          },
          "metadata": {
            "tags": [],
            "needs_background": "light"
          }
        }
      ]
    },
    {
      "cell_type": "code",
      "metadata": {
        "colab": {
          "base_uri": "https://localhost:8080/",
          "height": 284
        },
        "id": "ULNS-ByZhjNT",
        "outputId": "37e83c23-db5b-4a4c-8575-d2b4f79fc4ae"
      },
      "source": [
        "df['mean'].hist()"
      ],
      "execution_count": null,
      "outputs": [
        {
          "output_type": "execute_result",
          "data": {
            "text/plain": [
              "<matplotlib.axes._subplots.AxesSubplot at 0x7f3f5bb071d0>"
            ]
          },
          "metadata": {
            "tags": []
          },
          "execution_count": 33
        },
        {
          "output_type": "display_data",
          "data": {
            "image/png": "[encoded data removed]",
            "text/plain": [
              "<Figure size 432x288 with 1 Axes>"
            ]
          },
          "metadata": {
            "tags": [],
            "needs_background": "light"
          }
        }
      ]
    },
    {
      "cell_type": "code",
      "metadata": {
        "colab": {
          "base_uri": "https://localhost:8080/",
          "height": 284
        },
        "id": "NIAX_6fJfAbY",
        "outputId": "fd423328-d758-46e3-edcb-ed1a280e02cd"
      },
      "source": [
        "df['std'].hist()"
      ],
      "execution_count": null,
      "outputs": [
        {
          "output_type": "execute_result",
          "data": {
            "text/plain": [
              "<matplotlib.axes._subplots.AxesSubplot at 0x7f3f5ba7f080>"
            ]
          },
          "metadata": {
            "tags": []
          },
          "execution_count": 34
        },
        {
          "output_type": "display_data",
          "data": {
            "image/png": "[encoded data removed]",
            "text/plain": [
              "<Figure size 432x288 with 1 Axes>"
            ]
          },
          "metadata": {
            "tags": [],
            "needs_background": "light"
          }
        }
      ]
    },
    {
      "cell_type": "code",
      "metadata": {
        "colab": {
          "base_uri": "https://localhost:8080/",
          "height": 304
        },
        "id": "mov5lGwFvVLv",
        "outputId": "02d6fe9e-bbbf-475a-e1f7-0c475e5c745e"
      },
      "source": [
        "df2 = df.astype(int)\n",
        "df2 = pd.crosstab(df2['mean'], df2['std'])\n",
        "sns.heatmap(df2)"
      ],
      "execution_count": null,
      "outputs": [
        {
          "output_type": "execute_result",
          "data": {
            "text/plain": [
              "<matplotlib.axes._subplots.AxesSubplot at 0x7f3f5096e748>"
            ]
          },
          "metadata": {
            "tags": []
          },
          "execution_count": 48
        },
        {
          "output_type": "display_data",
          "data": {
            "image/png": "[encoded data removed]",
            "text/plain": [
              "<Figure size 432x288 with 2 Axes>"
            ]
          },
          "metadata": {
            "tags": [],
            "needs_background": "light"
          }
        }
      ]
    },
    {
      "cell_type": "code",
      "metadata": {
        "colab": {
          "base_uri": "https://localhost:8080/",
          "height": 247
        },
        "id": "SiTukHN8u5gu",
        "outputId": "07de7f3b-874a-4825-91e3-e498efed06bc"
      },
      "source": [
        "VIDEO_TITLE = \"1_9_QLD.mp4\"\n",
        "video = cv2.VideoCapture(VIDEO_TITLE)\n",
        "i = 0\n",
        "df_video = pd.DataFrame(columns = ['mean', 'std'])\n",
        "while(video.isOpened()):\n",
        "  ret, image = video.read()\n",
        "  if ret == True:\n",
        "    if len(image[0]) == 791:\n",
        "      image = image * mask791\n",
        "    elif len(image[0]) == 804:\n",
        "      image = image * mask804\n",
        "    m, s = cv2.meanStdDev(image)\n",
        "    df_video.loc[i] = [m[0,0], s[0,0]]\n",
        "    i += 1\n",
        "video.release()"
      ],
      "execution_count": null,
      "outputs": [
        {
          "output_type": "error",
          "ename": "KeyboardInterrupt",
          "evalue": "ignored",
          "traceback": [
            "\u001b[0;31m---------------------------------------------------------------------------\u001b[0m",
            "\u001b[0;31mKeyboardInterrupt\u001b[0m                         Traceback (most recent call last)",
            "\u001b[0;32m<ipython-input-47-f43300db33b8>\u001b[0m in \u001b[0;36m<module>\u001b[0;34m()\u001b[0m\n\u001b[1;32m      4\u001b[0m \u001b[0mdf_video\u001b[0m \u001b[0;34m=\u001b[0m \u001b[0mpd\u001b[0m\u001b[0;34m.\u001b[0m\u001b[0mDataFrame\u001b[0m\u001b[0;34m(\u001b[0m\u001b[0mcolumns\u001b[0m \u001b[0;34m=\u001b[0m \u001b[0;34m[\u001b[0m\u001b[0;34m'mean'\u001b[0m\u001b[0;34m,\u001b[0m \u001b[0;34m'std'\u001b[0m\u001b[0;34m]\u001b[0m\u001b[0;34m)\u001b[0m\u001b[0;34m\u001b[0m\u001b[0;34m\u001b[0m\u001b[0m\n\u001b[1;32m      5\u001b[0m \u001b[0;32mwhile\u001b[0m\u001b[0;34m(\u001b[0m\u001b[0mvideo\u001b[0m\u001b[0;34m.\u001b[0m\u001b[0misOpened\u001b[0m\u001b[0;34m(\u001b[0m\u001b[0;34m)\u001b[0m\u001b[0;34m)\u001b[0m\u001b[0;34m:\u001b[0m\u001b[0;34m\u001b[0m\u001b[0;34m\u001b[0m\u001b[0m\n\u001b[0;32m----> 6\u001b[0;31m   \u001b[0mret\u001b[0m\u001b[0;34m,\u001b[0m \u001b[0mimage\u001b[0m \u001b[0;34m=\u001b[0m \u001b[0mvideo\u001b[0m\u001b[0;34m.\u001b[0m\u001b[0mread\u001b[0m\u001b[0;34m(\u001b[0m\u001b[0;34m)\u001b[0m\u001b[0;34m\u001b[0m\u001b[0;34m\u001b[0m\u001b[0m\n\u001b[0m\u001b[1;32m      7\u001b[0m   \u001b[0;32mif\u001b[0m \u001b[0mret\u001b[0m \u001b[0;34m==\u001b[0m \u001b[0;32mTrue\u001b[0m\u001b[0;34m:\u001b[0m\u001b[0;34m\u001b[0m\u001b[0;34m\u001b[0m\u001b[0m\n\u001b[1;32m      8\u001b[0m     \u001b[0;32mif\u001b[0m \u001b[0mlen\u001b[0m\u001b[0;34m(\u001b[0m\u001b[0mimage\u001b[0m\u001b[0;34m[\u001b[0m\u001b[0;36m0\u001b[0m\u001b[0;34m]\u001b[0m\u001b[0;34m)\u001b[0m \u001b[0;34m==\u001b[0m \u001b[0;36m791\u001b[0m\u001b[0;34m:\u001b[0m\u001b[0;34m\u001b[0m\u001b[0;34m\u001b[0m\u001b[0m\n",
            "\u001b[0;31mKeyboardInterrupt\u001b[0m: "
          ]
        }
      ]
    },
    {
      "cell_type": "code",
      "metadata": {
        "colab": {
          "base_uri": "https://localhost:8080/",
          "height": 299
        },
        "id": "7H_woI-D1QA6",
        "outputId": "d3eb6b44-ddc0-4182-e175-99f4b9ef27b9"
      },
      "source": [
        "df_video2 = df_video.astype(int)\n",
        "df_video2 = pd.crosstab(df_video2['mean'], df_video2['std'])\n",
        "sns.heatmap(df_video2)"
      ],
      "execution_count": null,
      "outputs": [
        {
          "output_type": "execute_result",
          "data": {
            "text/plain": [
              "<matplotlib.axes._subplots.AxesSubplot at 0x7f3f4e2a9b00>"
            ]
          },
          "metadata": {
            "tags": []
          },
          "execution_count": 53
        },
        {
          "output_type": "display_data",
          "data": {
            "image/png": "[encoded data removed]",
            "text/plain": [
              "<Figure size 432x288 with 2 Axes>"
            ]
          },
          "metadata": {
            "tags": [],
            "needs_background": "light"
          }
        }
      ]
    },
    {
      "cell_type": "code",
      "metadata": {
        "colab": {
          "base_uri": "https://localhost:8080/",
          "height": 677
        },
        "id": "u1Q3Q2-Z4meD",
        "outputId": "25eea101-1722-436c-e51f-f3d0ff16c6b2"
      },
      "source": [
        "df_video.head(20)"
      ],
      "execution_count": null,
      "outputs": [
        {
          "output_type": "execute_result",
          "data": {
            "text/html": [
              "<div>\n",
              "<style scoped>\n",
              "    .dataframe tbody tr th:only-of-type {\n",
              "        vertical-align: middle;\n",
              "    }\n",
              "\n",
              "    .dataframe tbody tr th {\n",
              "        vertical-align: top;\n",
              "    }\n",
              "\n",
              "    .dataframe thead th {\n",
              "        text-align: right;\n",
              "    }\n",
              "</style>\n",
              "<table border=\"1\" class=\"dataframe\">\n",
              "  <thead>\n",
              "    <tr style=\"text-align: right;\">\n",
              "      <th></th>\n",
              "      <th>mean</th>\n",
              "      <th>std</th>\n",
              "    </tr>\n",
              "  </thead>\n",
              "  <tbody>\n",
              "    <tr>\n",
              "      <th>0</th>\n",
              "      <td>37.864373</td>\n",
              "      <td>57.183505</td>\n",
              "    </tr>\n",
              "    <tr>\n",
              "      <th>1</th>\n",
              "      <td>37.115139</td>\n",
              "      <td>56.459659</td>\n",
              "    </tr>\n",
              "    <tr>\n",
              "      <th>2</th>\n",
              "      <td>36.875601</td>\n",
              "      <td>56.347352</td>\n",
              "    </tr>\n",
              "    <tr>\n",
              "      <th>3</th>\n",
              "      <td>36.314428</td>\n",
              "      <td>56.145268</td>\n",
              "    </tr>\n",
              "    <tr>\n",
              "      <th>4</th>\n",
              "      <td>35.674874</td>\n",
              "      <td>55.818582</td>\n",
              "    </tr>\n",
              "    <tr>\n",
              "      <th>5</th>\n",
              "      <td>35.115213</td>\n",
              "      <td>55.344910</td>\n",
              "    </tr>\n",
              "    <tr>\n",
              "      <th>6</th>\n",
              "      <td>34.517314</td>\n",
              "      <td>55.151923</td>\n",
              "    </tr>\n",
              "    <tr>\n",
              "      <th>7</th>\n",
              "      <td>34.099862</td>\n",
              "      <td>54.916397</td>\n",
              "    </tr>\n",
              "    <tr>\n",
              "      <th>8</th>\n",
              "      <td>34.293143</td>\n",
              "      <td>55.196529</td>\n",
              "    </tr>\n",
              "    <tr>\n",
              "      <th>9</th>\n",
              "      <td>34.775807</td>\n",
              "      <td>55.572057</td>\n",
              "    </tr>\n",
              "    <tr>\n",
              "      <th>10</th>\n",
              "      <td>35.548134</td>\n",
              "      <td>55.996595</td>\n",
              "    </tr>\n",
              "    <tr>\n",
              "      <th>11</th>\n",
              "      <td>35.882320</td>\n",
              "      <td>56.154377</td>\n",
              "    </tr>\n",
              "    <tr>\n",
              "      <th>12</th>\n",
              "      <td>36.139469</td>\n",
              "      <td>56.242683</td>\n",
              "    </tr>\n",
              "    <tr>\n",
              "      <th>13</th>\n",
              "      <td>36.360193</td>\n",
              "      <td>56.401596</td>\n",
              "    </tr>\n",
              "    <tr>\n",
              "      <th>14</th>\n",
              "      <td>36.526415</td>\n",
              "      <td>56.415873</td>\n",
              "    </tr>\n",
              "    <tr>\n",
              "      <th>15</th>\n",
              "      <td>36.809210</td>\n",
              "      <td>56.420463</td>\n",
              "    </tr>\n",
              "    <tr>\n",
              "      <th>16</th>\n",
              "      <td>37.089390</td>\n",
              "      <td>56.534514</td>\n",
              "    </tr>\n",
              "    <tr>\n",
              "      <th>17</th>\n",
              "      <td>37.054682</td>\n",
              "      <td>56.514948</td>\n",
              "    </tr>\n",
              "    <tr>\n",
              "      <th>18</th>\n",
              "      <td>36.577218</td>\n",
              "      <td>56.440556</td>\n",
              "    </tr>\n",
              "    <tr>\n",
              "      <th>19</th>\n",
              "      <td>35.118420</td>\n",
              "      <td>55.681634</td>\n",
              "    </tr>\n",
              "  </tbody>\n",
              "</table>\n",
              "</div>"
            ],
            "text/plain": [
              "         mean        std\n",
              "0   37.864373  57.183505\n",
              "1   37.115139  56.459659\n",
              "2   36.875601  56.347352\n",
              "3   36.314428  56.145268\n",
              "4   35.674874  55.818582\n",
              "5   35.115213  55.344910\n",
              "6   34.517314  55.151923\n",
              "7   34.099862  54.916397\n",
              "8   34.293143  55.196529\n",
              "9   34.775807  55.572057\n",
              "10  35.548134  55.996595\n",
              "11  35.882320  56.154377\n",
              "12  36.139469  56.242683\n",
              "13  36.360193  56.401596\n",
              "14  36.526415  56.415873\n",
              "15  36.809210  56.420463\n",
              "16  37.089390  56.534514\n",
              "17  37.054682  56.514948\n",
              "18  36.577218  56.440556\n",
              "19  35.118420  55.681634"
            ]
          },
          "metadata": {
            "tags": []
          },
          "execution_count": 54
        }
      ]
    },
    {
      "cell_type": "code",
      "metadata": {
        "id": "frrtEa5C7HoG"
      },
      "source": [
        ""
      ],
      "execution_count": null,
      "outputs": []
    }
  ]
}
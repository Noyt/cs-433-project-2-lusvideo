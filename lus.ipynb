{
 "cells": [
  {
   "cell_type": "markdown",
   "metadata": {
    "id": "YapYOP_srblT"
   },
   "source": [
    "# LUS-CS433\n",
    "\n",
    "## 1. Code Exploration\n",
    "\n",
    "### Imports"
   ]
  },
  {
   "cell_type": "code",
   "execution_count": 18,
   "metadata": {
    "id": "TZoIvD9nJuD1"
   },
   "outputs": [],
   "source": [
    "import numpy as np\n",
    "import pandas as pd\n",
    "import matplotlib.pyplot as plt\n",
    "import time\n",
    "import os\n",
    "import copy\n",
    "import cv2\n",
    "import seaborn as sns\n",
    "import glob\n",
    "import sys"
   ]
  },
  {
   "cell_type": "markdown",
   "metadata": {
    "id": "SoHSEUJqzlMR"
   },
   "source": [
    "### Downloading data"
   ]
  },
  {
   "cell_type": "markdown",
   "metadata": {
    "id": "PBJ5-wpVMirO"
   },
   "source": [
    "## 2. Data Exploration"
   ]
  },
  {
   "cell_type": "code",
   "execution_count": 2,
   "metadata": {
    "colab": {
     "base_uri": "https://localhost:8080/",
     "height": 424
    },
    "id": "LshRvugQST4a",
    "outputId": "1c760e01-e530-4b22-eaa3-319ee1000f8e"
   },
   "outputs": [
    {
     "data": {
      "text/plain": [
       "\"# getting the list of names\\n!ls LUS\\\\ images/negative > neg_names.csv\\n!ls LUS\\\\ images/positive > pos_names.csv\\n\\nneg = pd.read_csv('neg_names.csv', header=None)\\npos = pd.read_csv('pos_names.csv', header=None)\\n\\ndata = neg.append(pos, ignore_index=True)\\ndata\\n\\npos = pd.read_csv('pos_names.csv', header=None)\\n\\n# removing .png extension\\npos[0] = pos[0].apply(lambda x: x[:-4])\\n\\n# extracting site\\npos[0] = pos[0].apply(lambda x: x.split('_')[2])\\n\\npos\\n\\nsums = pd.get_dummies(pos).sum()\\n\\nplt.bar(sums.index, sums.values)\\nplt.xlabel('Site')\\nplt.ylabel('Count')\\nplt.tight_layout()\""
      ]
     },
     "execution_count": 2,
     "metadata": {},
     "output_type": "execute_result"
    }
   ],
   "source": [
    "\"\"\"# getting the list of names\n",
    "!ls LUS\\ images/negative > neg_names.csv\n",
    "!ls LUS\\ images/positive > pos_names.csv\n",
    "\n",
    "neg = pd.read_csv('neg_names.csv', header=None)\n",
    "pos = pd.read_csv('pos_names.csv', header=None)\n",
    "\n",
    "data = neg.append(pos, ignore_index=True)\n",
    "data\n",
    "\n",
    "pos = pd.read_csv('pos_names.csv', header=None)\n",
    "\n",
    "# removing .png extension\n",
    "pos[0] = pos[0].apply(lambda x: x[:-4])\n",
    "\n",
    "# extracting site\n",
    "pos[0] = pos[0].apply(lambda x: x.split('_')[2])\n",
    "\n",
    "pos\n",
    "\n",
    "sums = pd.get_dummies(pos).sum()\n",
    "\n",
    "plt.bar(sums.index, sums.values)\n",
    "plt.xlabel('Site')\n",
    "plt.ylabel('Count')\n",
    "plt.tight_layout()\"\"\""
   ]
  },
  {
   "cell_type": "markdown",
   "metadata": {
    "id": "G5jpXz_R_cP8"
   },
   "source": [
    "## 3. Creating Datasets\n",
    "\n",
    "### 3.1 Creating file folders"
   ]
  },
  {
   "cell_type": "code",
   "execution_count": 34,
   "metadata": {
    "id": "CAq_xxIcQAHU"
   },
   "outputs": [
    {
     "name": "stderr",
     "output_type": "stream",
     "text": [
      "Un sous-r‚pertoire ou un fichier data\\butter_proc_images_2 existe d‚j….\n",
      "Un sous-r‚pertoire ou un fichier data\\butter_proc_images_2\\train existe d‚j….\n",
      "Un sous-r‚pertoire ou un fichier data\\butter_proc_images_2\\val existe d‚j….\n",
      "Un sous-r‚pertoire ou un fichier data\\butter_proc_images_2\\train\\true existe d‚j….\n",
      "Un sous-r‚pertoire ou un fichier data\\butter_proc_images_2\\train\\false existe d‚j….\n",
      "Un sous-r‚pertoire ou un fichier data\\butter_proc_images_2\\val\\true existe d‚j….\n",
      "Un sous-r‚pertoire ou un fichier data\\butter_proc_images_2\\val\\false existe d‚j….\n"
     ]
    }
   ],
   "source": [
    "\"\"\"! mkdir data/LUS_proc_images\n",
    "! mkdir data/LUS_proc_images/train\n",
    "! mkdir data/LUS_proc_images/val\n",
    "! mkdir data/LUS_proc_images/train/true\n",
    "! mkdir data/LUS_proc_images/train/false\n",
    "! mkdir data/LUS_proc_images/val/true\n",
    "! mkdir data/LUS_proc_images/val/false \"\"\"\n",
    "\n",
    "\"\"\"! mkdir data/butter_proc_images_2\n",
    "! mkdir data/butter_proc_images_2/train\n",
    "! mkdir data/butter_proc_images_2/val\n",
    "! mkdir data/butter_proc_images_2/test\n",
    "! mkdir data/butter_proc_images_2/train/true\n",
    "! mkdir data/butter_proc_images_2/train/false\n",
    "! mkdir data/butter_proc_images_2/val/true\n",
    "! mkdir data/butter_proc_images_2/val/false\"\"\"\n",
    "\n",
    "#Version Windows\n",
    "! mkdir data\\butter_proc_images_2\n",
    "! mkdir data\\butter_proc_images_2\\train\n",
    "! mkdir data\\butter_proc_images_2\\val\n",
    "! mkdir data\\butter_proc_images_2\\test\\test\n",
    "! mkdir data\\butter_proc_images_2\\train\\true\n",
    "! mkdir data\\butter_proc_images_2\\train\\false\n",
    "! mkdir data\\butter_proc_images_2\\val\\true\n",
    "! mkdir data\\butter_proc_images_2\\val\\false"
   ]
  },
  {
   "cell_type": "markdown",
   "metadata": {},
   "source": [
    "### 3.2 Image preprocessing\n",
    "\n",
    "We start by creating a mask that we will use to crop images, getting rid of features on the images (such as the scale, or name of site) that could otherwise perturb the training.\n",
    "The mask has been crafted manually, as we did not have time to implement automatic edge detrection or similar mechanism to automate the process."
   ]
  },
  {
   "cell_type": "code",
   "execution_count": 3,
   "metadata": {},
   "outputs": [],
   "source": [
    "# Main mask used to capture the relevant portion of LUS images. Crafted manually. Is [1,1,1] where image is relevant\n",
    "\n",
    "# Image dimensions\n",
    "nb_rows = 1080\n",
    "nb_cols = 792\n",
    "nb_channels = 3\n",
    "\n",
    "mask = np.zeros([nb_rows, nb_cols, nb_channels])\n",
    "\n",
    "# Filling mask\n",
    "for row in range(nb_rows):\n",
    "    for col in range(nb_cols):\n",
    "        # Delimitations of the cone like portion of a LUS image\n",
    "        if row > 25 and row < 1010 and col < 762 and (-4/5 * row + 293) < col and (4/5*row) + nb_cols-293 > col:\n",
    "            mask[row, col] = [1,1,1]"
   ]
  },
  {
   "cell_type": "markdown",
   "metadata": {},
   "source": [
    "#### 3.2.1 Obtaining \"True\" images\n",
    "\n",
    "We then create a function that will run over our expert selected images, crop them, and organise them in a folder architecture that will later be used through the PyTorch DataLoader class. We also select by hand a few images that will be used as a test set."
   ]
  },
  {
   "cell_type": "code",
   "execution_count": 29,
   "metadata": {
    "id": "9HjtwX90Q985"
   },
   "outputs": [],
   "source": [
    "# patient ids used for the test set\n",
    "test_ids = ['_151_','_136_', '_117_', '_45_', '_16_']\n",
    "\n",
    "def do_split(path) :\n",
    "    if(sys.platform.startswith('linux')) :\n",
    "        return path.split('/')\n",
    "    else :\n",
    "        return path.split('\\\\')\n",
    "        \n",
    "\n",
    "def read_crop(image_path, mask, nb_cols=792, nb_rows=1080):\n",
    "    \"\"\"\n",
    "    Read image, resize to given dimensions and apply mask.\n",
    "    \n",
    "    Returns: image name, image\n",
    "    \"\"\"\n",
    "    # Reading and masking image\n",
    "    cv2_img = cv2.imread(image_path)\n",
    "    masked_img = cv2.resize(cv2_img, (nb_cols, nb_rows))*mask\n",
    "\n",
    "    # Selecting image name from path name\n",
    "    img_name = do_split(image_path)[-1]\n",
    "    \n",
    "    return img_name, masked_img\n",
    "    \n",
    "\n",
    "def create_samples(nb_samples, ratio, read_path, write_path, mask):\n",
    "    \"\"\"\n",
    "    Crops nb_spamples images from the given folder and \n",
    "    organises them in training, validation and test folders, in \"true\" labeled subfolders\n",
    "    \"\"\"\n",
    "    images_path = glob.glob(read_path)\n",
    "    \n",
    "    # sparating test images and shuffling\n",
    "    np.random.seed(1)\n",
    "    images_path_test = [img for img in images_path if any([(id_ in img) for id_ in test_ids])] \n",
    "    images_path = [img for img in images_path if not any([(id_ in img) for id_ in test_ids])]\n",
    "    images_path = np.random.permutation(images_path)\n",
    "    \n",
    "    train = int(nb_samples * ratio)\n",
    "    \n",
    "    # Writing training and validation images to folder\n",
    "    for i, image in enumerate(images_path[:nb_samples]):\n",
    "        img_name, masked_img = read_crop(image, mask)\n",
    "        \n",
    "        if i >= train:\n",
    "            cv2.imwrite(f\"{write_path}/val/true/{img_name}\", masked_img)\n",
    "        else:\n",
    "            cv2.imwrite(f\"{write_path}/train/true/{img_name}\", masked_img)\n",
    "            \n",
    "    # Writing test images to folder\n",
    "    for image in images_path_test:\n",
    "        img_name, masked_img = read_crop(image, mask, nb_cols, nb_rows)\n",
    "        cv2.imwrite(f\"{write_path}/test/{img_name}\", masked_img)"
   ]
  },
  {
   "cell_type": "markdown",
   "metadata": {},
   "source": [
    "Extracting and organising the \"true\" label images."
   ]
  },
  {
   "cell_type": "code",
   "execution_count": 20,
   "metadata": {
    "id": "BwzO-NptULV2"
   },
   "outputs": [],
   "source": [
    "\"\"\"# Make sure that the files are empty\n",
    "! rm -rfv data/butter_proc_images_2/val/true/*\n",
    "! rm -rfv data/butter_proc_images_2/train/true/*\n",
    "! rm -rfv data/butter_proc_images_2/test/* \"\"\"\n",
    "\n",
    "# Generates the samples\n",
    "nb_samples = 300\n",
    "ratio = 0.8\n",
    "read_path = \"data/Ultrason butterflynetwork/*.png\"\n",
    "write_path = \"data/butter_proc_images_2\"\n",
    "create_samples(nb_samples, ratio, read_path, write_path, mask)"
   ]
  },
  {
   "cell_type": "markdown",
   "metadata": {},
   "source": [
    "#### 3.2.1 Obtaining \"False\" images\n",
    "\n",
    "Now that the expert images have been processed and organised we need to obtain data corresponding to the opposite label, namely images that an expert clinician would not have selected from a video, as they would prove to be poor material for diagnositic.\n",
    "We try a selection method based on the average brightness of the image. If it is too low or too high, we consider the image is bad and thus save it as a \"false\" labeled data."
   ]
  },
  {
   "cell_type": "code",
   "execution_count": 23,
   "metadata": {},
   "outputs": [],
   "source": [
    "def compute_mean(img, mask):\n",
    "    \"\"\"\n",
    "    Computes the mean brightness over the masked area (mask should already have been applied to the image)\n",
    "    \"\"\"\n",
    "    active = np.sum(mask)/nb_channels\n",
    "    mean = np.mean(img)*(nb_cols*nb_rows/active)\n",
    "\n",
    "    return mean\n",
    "    \n",
    "# TODO is it used ?\n",
    "def compute_mean_std(img, mask):\n",
    "    len_x,len_y, _ = img.shape\n",
    "    \n",
    "    # Compute mean brightness\n",
    "    mean = compute_mean(img, mask)\n",
    "    var = 0\n",
    "    for x in range(len_x):\n",
    "        for y in range(len_y):\n",
    "            if(mask[x,y,0]==1):\n",
    "                var += (img[x,y,0] - mean)**2\n",
    "    \n",
    "    var /= active\n",
    "    \n",
    "    return mean, np.sqrt(var)\n",
    "            "
   ]
  },
  {
   "cell_type": "markdown",
   "metadata": {
    "id": "Efoy13Awt0CN"
   },
   "source": [
    "#### Compute mean brightness over all sample"
   ]
  },
  {
   "cell_type": "code",
   "execution_count": 7,
   "metadata": {
    "id": "LzgnfG9xH3He"
   },
   "outputs": [],
   "source": [
    "def create_brightness_df(path):\n",
    "    df = pd.DataFrame(columns = ['mean', 'std'])\n",
    "    images_path = glob.glob(path)\n",
    "    for i,image in enumerate(images_path):\n",
    "        img = cv2.imread(image)\n",
    "        m, s = compute_mean_std(img, mask)\n",
    "        df.loc[i] = [m, s]\n",
    "        \n",
    "    return df"
   ]
  },
  {
   "cell_type": "code",
   "execution_count": 24,
   "metadata": {
    "id": "yAuH35czwDWy"
   },
   "outputs": [
    {
     "ename": "NameError",
     "evalue": "name 'active' is not defined",
     "output_type": "error",
     "traceback": [
      "\u001b[1;31m---------------------------------------------------------------------------\u001b[0m",
      "\u001b[1;31mNameError\u001b[0m                                 Traceback (most recent call last)",
      "\u001b[1;32m<ipython-input-24-888e953a8f03>\u001b[0m in \u001b[0;36m<module>\u001b[1;34m\u001b[0m\n\u001b[1;32m----> 1\u001b[1;33m \u001b[0mdf\u001b[0m \u001b[1;33m=\u001b[0m \u001b[0mcreate_brightness_df\u001b[0m\u001b[1;33m(\u001b[0m\u001b[1;34m\"data/butter_proc_images_2/train/true/*.png\"\u001b[0m\u001b[1;33m)\u001b[0m\u001b[1;33m\u001b[0m\u001b[1;33m\u001b[0m\u001b[0m\n\u001b[0m",
      "\u001b[1;32m<ipython-input-7-dc42ad1e6cca>\u001b[0m in \u001b[0;36mcreate_brightness_df\u001b[1;34m(path)\u001b[0m\n\u001b[0;32m      4\u001b[0m     \u001b[1;32mfor\u001b[0m \u001b[0mi\u001b[0m\u001b[1;33m,\u001b[0m\u001b[0mimage\u001b[0m \u001b[1;32min\u001b[0m \u001b[0menumerate\u001b[0m\u001b[1;33m(\u001b[0m\u001b[0mimages_path\u001b[0m\u001b[1;33m)\u001b[0m\u001b[1;33m:\u001b[0m\u001b[1;33m\u001b[0m\u001b[1;33m\u001b[0m\u001b[0m\n\u001b[0;32m      5\u001b[0m         \u001b[0mimg\u001b[0m \u001b[1;33m=\u001b[0m \u001b[0mcv2\u001b[0m\u001b[1;33m.\u001b[0m\u001b[0mimread\u001b[0m\u001b[1;33m(\u001b[0m\u001b[0mimage\u001b[0m\u001b[1;33m)\u001b[0m\u001b[1;33m\u001b[0m\u001b[1;33m\u001b[0m\u001b[0m\n\u001b[1;32m----> 6\u001b[1;33m         \u001b[0mm\u001b[0m\u001b[1;33m,\u001b[0m \u001b[0ms\u001b[0m \u001b[1;33m=\u001b[0m \u001b[0mcompute_mean_std\u001b[0m\u001b[1;33m(\u001b[0m\u001b[0mimg\u001b[0m\u001b[1;33m,\u001b[0m \u001b[0mmask\u001b[0m\u001b[1;33m)\u001b[0m\u001b[1;33m\u001b[0m\u001b[1;33m\u001b[0m\u001b[0m\n\u001b[0m\u001b[0;32m      7\u001b[0m         \u001b[0mdf\u001b[0m\u001b[1;33m.\u001b[0m\u001b[0mloc\u001b[0m\u001b[1;33m[\u001b[0m\u001b[0mi\u001b[0m\u001b[1;33m]\u001b[0m \u001b[1;33m=\u001b[0m \u001b[1;33m[\u001b[0m\u001b[0mm\u001b[0m\u001b[1;33m,\u001b[0m \u001b[0ms\u001b[0m\u001b[1;33m]\u001b[0m\u001b[1;33m\u001b[0m\u001b[1;33m\u001b[0m\u001b[0m\n\u001b[0;32m      8\u001b[0m \u001b[1;33m\u001b[0m\u001b[0m\n",
      "\u001b[1;32m<ipython-input-23-52c1dc199f1e>\u001b[0m in \u001b[0;36mcompute_mean_std\u001b[1;34m(img, mask)\u001b[0m\n\u001b[0;32m     20\u001b[0m                 \u001b[0mvar\u001b[0m \u001b[1;33m+=\u001b[0m \u001b[1;33m(\u001b[0m\u001b[0mimg\u001b[0m\u001b[1;33m[\u001b[0m\u001b[0mx\u001b[0m\u001b[1;33m,\u001b[0m\u001b[0my\u001b[0m\u001b[1;33m,\u001b[0m\u001b[1;36m0\u001b[0m\u001b[1;33m]\u001b[0m \u001b[1;33m-\u001b[0m \u001b[0mmean\u001b[0m\u001b[1;33m)\u001b[0m\u001b[1;33m**\u001b[0m\u001b[1;36m2\u001b[0m\u001b[1;33m\u001b[0m\u001b[1;33m\u001b[0m\u001b[0m\n\u001b[0;32m     21\u001b[0m \u001b[1;33m\u001b[0m\u001b[0m\n\u001b[1;32m---> 22\u001b[1;33m     \u001b[0mvar\u001b[0m \u001b[1;33m/=\u001b[0m \u001b[0mactive\u001b[0m\u001b[1;33m\u001b[0m\u001b[1;33m\u001b[0m\u001b[0m\n\u001b[0m\u001b[0;32m     23\u001b[0m \u001b[1;33m\u001b[0m\u001b[0m\n\u001b[0;32m     24\u001b[0m     \u001b[1;32mreturn\u001b[0m \u001b[0mmean\u001b[0m\u001b[1;33m,\u001b[0m \u001b[0mnp\u001b[0m\u001b[1;33m.\u001b[0m\u001b[0msqrt\u001b[0m\u001b[1;33m(\u001b[0m\u001b[0mvar\u001b[0m\u001b[1;33m)\u001b[0m\u001b[1;33m\u001b[0m\u001b[1;33m\u001b[0m\u001b[0m\n",
      "\u001b[1;31mNameError\u001b[0m: name 'active' is not defined"
     ]
    }
   ],
   "source": [
    "df = create_brightness_df(\"data/butter_proc_images_2/train/true/*.png\")"
   ]
  },
  {
   "cell_type": "code",
   "execution_count": null,
   "metadata": {},
   "outputs": [],
   "source": [
    "df.to_csv(\"mean_std_butter_300.csv\")"
   ]
  },
  {
   "cell_type": "code",
   "execution_count": 10,
   "metadata": {
    "colab": {
     "base_uri": "https://localhost:8080/",
     "height": 284
    },
    "id": "Rnj8CtNoazDm",
    "outputId": "945d51a8-288a-46f3-ffc6-c9e50ce54ee6"
   },
   "outputs": [
    {
     "ename": "ZeroDivisionError",
     "evalue": "integer division or modulo by zero",
     "output_type": "error",
     "traceback": [
      "\u001b[1;31m---------------------------------------------------------------------------\u001b[0m",
      "\u001b[1;31mZeroDivisionError\u001b[0m                         Traceback (most recent call last)",
      "\u001b[1;32m<ipython-input-10-868535c90870>\u001b[0m in \u001b[0;36m<module>\u001b[1;34m\u001b[0m\n\u001b[1;32m----> 1\u001b[1;33m \u001b[0mdf\u001b[0m\u001b[1;33m.\u001b[0m\u001b[0mboxplot\u001b[0m\u001b[1;33m(\u001b[0m\u001b[1;33m)\u001b[0m\u001b[1;33m\u001b[0m\u001b[1;33m\u001b[0m\u001b[0m\n\u001b[0m",
      "\u001b[1;32mD:\\Anaconda\\envs\\ada\\lib\\site-packages\\pandas\\plotting\\_core.py\u001b[0m in \u001b[0;36mboxplot_frame\u001b[1;34m(self, column, by, ax, fontsize, rot, grid, figsize, layout, return_type, backend, **kwargs)\u001b[0m\n\u001b[0;32m    492\u001b[0m ):\n\u001b[0;32m    493\u001b[0m     \u001b[0mplot_backend\u001b[0m \u001b[1;33m=\u001b[0m \u001b[0m_get_plot_backend\u001b[0m\u001b[1;33m(\u001b[0m\u001b[0mbackend\u001b[0m\u001b[1;33m)\u001b[0m\u001b[1;33m\u001b[0m\u001b[1;33m\u001b[0m\u001b[0m\n\u001b[1;32m--> 494\u001b[1;33m     return plot_backend.boxplot_frame(\n\u001b[0m\u001b[0;32m    495\u001b[0m         \u001b[0mself\u001b[0m\u001b[1;33m,\u001b[0m\u001b[1;33m\u001b[0m\u001b[1;33m\u001b[0m\u001b[0m\n\u001b[0;32m    496\u001b[0m         \u001b[0mcolumn\u001b[0m\u001b[1;33m=\u001b[0m\u001b[0mcolumn\u001b[0m\u001b[1;33m,\u001b[0m\u001b[1;33m\u001b[0m\u001b[1;33m\u001b[0m\u001b[0m\n",
      "\u001b[1;32mD:\\Anaconda\\envs\\ada\\lib\\site-packages\\pandas\\plotting\\_matplotlib\\boxplot.py\u001b[0m in \u001b[0;36mboxplot_frame\u001b[1;34m(self, column, by, ax, fontsize, rot, grid, figsize, layout, return_type, **kwds)\u001b[0m\n\u001b[0;32m    378\u001b[0m     \u001b[1;32mimport\u001b[0m \u001b[0mmatplotlib\u001b[0m\u001b[1;33m.\u001b[0m\u001b[0mpyplot\u001b[0m \u001b[1;32mas\u001b[0m \u001b[0mplt\u001b[0m\u001b[1;33m\u001b[0m\u001b[1;33m\u001b[0m\u001b[0m\n\u001b[0;32m    379\u001b[0m \u001b[1;33m\u001b[0m\u001b[0m\n\u001b[1;32m--> 380\u001b[1;33m     ax = boxplot(\n\u001b[0m\u001b[0;32m    381\u001b[0m         \u001b[0mself\u001b[0m\u001b[1;33m,\u001b[0m\u001b[1;33m\u001b[0m\u001b[1;33m\u001b[0m\u001b[0m\n\u001b[0;32m    382\u001b[0m         \u001b[0mcolumn\u001b[0m\u001b[1;33m=\u001b[0m\u001b[0mcolumn\u001b[0m\u001b[1;33m,\u001b[0m\u001b[1;33m\u001b[0m\u001b[1;33m\u001b[0m\u001b[0m\n",
      "\u001b[1;32mD:\\Anaconda\\envs\\ada\\lib\\site-packages\\pandas\\plotting\\_matplotlib\\boxplot.py\u001b[0m in \u001b[0;36mboxplot\u001b[1;34m(data, column, by, ax, fontsize, rot, grid, figsize, layout, return_type, **kwds)\u001b[0m\n\u001b[0;32m    357\u001b[0m             \u001b[0mdata\u001b[0m \u001b[1;33m=\u001b[0m \u001b[0mdata\u001b[0m\u001b[1;33m[\u001b[0m\u001b[0mcolumns\u001b[0m\u001b[1;33m]\u001b[0m\u001b[1;33m\u001b[0m\u001b[1;33m\u001b[0m\u001b[0m\n\u001b[0;32m    358\u001b[0m \u001b[1;33m\u001b[0m\u001b[0m\n\u001b[1;32m--> 359\u001b[1;33m         \u001b[0mresult\u001b[0m \u001b[1;33m=\u001b[0m \u001b[0mplot_group\u001b[0m\u001b[1;33m(\u001b[0m\u001b[0mcolumns\u001b[0m\u001b[1;33m,\u001b[0m \u001b[0mdata\u001b[0m\u001b[1;33m.\u001b[0m\u001b[0mvalues\u001b[0m\u001b[1;33m.\u001b[0m\u001b[0mT\u001b[0m\u001b[1;33m,\u001b[0m \u001b[0max\u001b[0m\u001b[1;33m)\u001b[0m\u001b[1;33m\u001b[0m\u001b[1;33m\u001b[0m\u001b[0m\n\u001b[0m\u001b[0;32m    360\u001b[0m         \u001b[0max\u001b[0m\u001b[1;33m.\u001b[0m\u001b[0mgrid\u001b[0m\u001b[1;33m(\u001b[0m\u001b[0mgrid\u001b[0m\u001b[1;33m)\u001b[0m\u001b[1;33m\u001b[0m\u001b[1;33m\u001b[0m\u001b[0m\n\u001b[0;32m    361\u001b[0m \u001b[1;33m\u001b[0m\u001b[0m\n",
      "\u001b[1;32mD:\\Anaconda\\envs\\ada\\lib\\site-packages\\pandas\\plotting\\_matplotlib\\boxplot.py\u001b[0m in \u001b[0;36mplot_group\u001b[1;34m(keys, values, ax)\u001b[0m\n\u001b[0;32m    302\u001b[0m             \u001b[0mticks\u001b[0m \u001b[1;33m=\u001b[0m \u001b[0max\u001b[0m\u001b[1;33m.\u001b[0m\u001b[0mget_xticks\u001b[0m\u001b[1;33m(\u001b[0m\u001b[1;33m)\u001b[0m\u001b[1;33m\u001b[0m\u001b[1;33m\u001b[0m\u001b[0m\n\u001b[0;32m    303\u001b[0m             \u001b[1;32mif\u001b[0m \u001b[0mlen\u001b[0m\u001b[1;33m(\u001b[0m\u001b[0mticks\u001b[0m\u001b[1;33m)\u001b[0m \u001b[1;33m!=\u001b[0m \u001b[0mlen\u001b[0m\u001b[1;33m(\u001b[0m\u001b[0mkeys\u001b[0m\u001b[1;33m)\u001b[0m\u001b[1;33m:\u001b[0m\u001b[1;33m\u001b[0m\u001b[1;33m\u001b[0m\u001b[0m\n\u001b[1;32m--> 304\u001b[1;33m                 \u001b[0mi\u001b[0m\u001b[1;33m,\u001b[0m \u001b[0mremainder\u001b[0m \u001b[1;33m=\u001b[0m \u001b[0mdivmod\u001b[0m\u001b[1;33m(\u001b[0m\u001b[0mlen\u001b[0m\u001b[1;33m(\u001b[0m\u001b[0mticks\u001b[0m\u001b[1;33m)\u001b[0m\u001b[1;33m,\u001b[0m \u001b[0mlen\u001b[0m\u001b[1;33m(\u001b[0m\u001b[0mkeys\u001b[0m\u001b[1;33m)\u001b[0m\u001b[1;33m)\u001b[0m\u001b[1;33m\u001b[0m\u001b[1;33m\u001b[0m\u001b[0m\n\u001b[0m\u001b[0;32m    305\u001b[0m                 \u001b[1;32massert\u001b[0m \u001b[0mremainder\u001b[0m \u001b[1;33m==\u001b[0m \u001b[1;36m0\u001b[0m\u001b[1;33m,\u001b[0m \u001b[0mremainder\u001b[0m\u001b[1;33m\u001b[0m\u001b[1;33m\u001b[0m\u001b[0m\n\u001b[0;32m    306\u001b[0m                 \u001b[0mkeys\u001b[0m \u001b[1;33m*=\u001b[0m \u001b[0mi\u001b[0m\u001b[1;33m\u001b[0m\u001b[1;33m\u001b[0m\u001b[0m\n",
      "\u001b[1;31mZeroDivisionError\u001b[0m: integer division or modulo by zero"
     ]
    },
    {
     "data": {
      "image/png": "[encoded data removed]",
      "text/plain": [
       "<Figure size 432x288 with 1 Axes>"
      ]
     },
     "metadata": {
      "needs_background": "light"
     },
     "output_type": "display_data"
    }
   ],
   "source": [
    "df.boxplot()"
   ]
  },
  {
   "cell_type": "code",
   "execution_count": null,
   "metadata": {
    "colab": {
     "base_uri": "https://localhost:8080/",
     "height": 284
    },
    "id": "ULNS-ByZhjNT",
    "outputId": "37e83c23-db5b-4a4c-8575-d2b4f79fc4ae"
   },
   "outputs": [],
   "source": [
    "df['mean'].hist()"
   ]
  },
  {
   "cell_type": "code",
   "execution_count": null,
   "metadata": {
    "colab": {
     "base_uri": "https://localhost:8080/",
     "height": 284
    },
    "id": "NIAX_6fJfAbY",
    "outputId": "fd423328-d758-46e3-edcb-ed1a280e02cd"
   },
   "outputs": [],
   "source": [
    "df['std'].hist()"
   ]
  },
  {
   "cell_type": "code",
   "execution_count": 60,
   "metadata": {},
   "outputs": [
    {
     "data": {
      "text/html": [
       "<div>\n",
       "<style scoped>\n",
       "    .dataframe tbody tr th:only-of-type {\n",
       "        vertical-align: middle;\n",
       "    }\n",
       "\n",
       "    .dataframe tbody tr th {\n",
       "        vertical-align: top;\n",
       "    }\n",
       "\n",
       "    .dataframe thead th {\n",
       "        text-align: right;\n",
       "    }\n",
       "</style>\n",
       "<table border=\"1\" class=\"dataframe\">\n",
       "  <thead>\n",
       "    <tr style=\"text-align: right;\">\n",
       "      <th></th>\n",
       "      <th>mean</th>\n",
       "      <th>std</th>\n",
       "    </tr>\n",
       "  </thead>\n",
       "  <tbody>\n",
       "    <tr>\n",
       "      <th>count</th>\n",
       "      <td>240.000000</td>\n",
       "      <td>240.000000</td>\n",
       "    </tr>\n",
       "    <tr>\n",
       "      <th>mean</th>\n",
       "      <td>30.017529</td>\n",
       "      <td>49.137431</td>\n",
       "    </tr>\n",
       "    <tr>\n",
       "      <th>std</th>\n",
       "      <td>12.483484</td>\n",
       "      <td>10.542679</td>\n",
       "    </tr>\n",
       "    <tr>\n",
       "      <th>min</th>\n",
       "      <td>8.083843</td>\n",
       "      <td>25.636854</td>\n",
       "    </tr>\n",
       "    <tr>\n",
       "      <th>25%</th>\n",
       "      <td>20.744722</td>\n",
       "      <td>42.253468</td>\n",
       "    </tr>\n",
       "    <tr>\n",
       "      <th>50%</th>\n",
       "      <td>27.506638</td>\n",
       "      <td>48.658765</td>\n",
       "    </tr>\n",
       "    <tr>\n",
       "      <th>75%</th>\n",
       "      <td>36.293187</td>\n",
       "      <td>55.868505</td>\n",
       "    </tr>\n",
       "    <tr>\n",
       "      <th>max</th>\n",
       "      <td>75.345567</td>\n",
       "      <td>88.525017</td>\n",
       "    </tr>\n",
       "  </tbody>\n",
       "</table>\n",
       "</div>"
      ],
      "text/plain": [
       "             mean         std\n",
       "count  240.000000  240.000000\n",
       "mean    30.017529   49.137431\n",
       "std     12.483484   10.542679\n",
       "min      8.083843   25.636854\n",
       "25%     20.744722   42.253468\n",
       "50%     27.506638   48.658765\n",
       "75%     36.293187   55.868505\n",
       "max     75.345567   88.525017"
      ]
     },
     "execution_count": 60,
     "metadata": {},
     "output_type": "execute_result"
    }
   ],
   "source": [
    "df.describe()"
   ]
  },
  {
   "cell_type": "code",
   "execution_count": 61,
   "metadata": {},
   "outputs": [
    {
     "data": {
      "text/plain": [
       "array([[<AxesSubplot:title={'center':'mean'}>,\n",
       "        <AxesSubplot:title={'center':'std'}>]], dtype=object)"
      ]
     },
     "execution_count": 61,
     "metadata": {},
     "output_type": "execute_result"
    },
    {
     "data": {
      "image/png": "[encoded data removed]",
      "text/plain": [
       "<Figure size 432x288 with 2 Axes>"
      ]
     },
     "metadata": {
      "needs_background": "light"
     },
     "output_type": "display_data"
    }
   ],
   "source": [
    "df[(df['mean']<15) & (df['std']<32)].hist()"
   ]
  },
  {
   "cell_type": "code",
   "execution_count": 62,
   "metadata": {
    "colab": {
     "base_uri": "https://localhost:8080/",
     "height": 304
    },
    "id": "mov5lGwFvVLv",
    "outputId": "02d6fe9e-bbbf-475a-e1f7-0c475e5c745e"
   },
   "outputs": [
    {
     "data": {
      "text/plain": [
       "<AxesSubplot:xlabel='std', ylabel='mean'>"
      ]
     },
     "execution_count": 62,
     "metadata": {},
     "output_type": "execute_result"
    },
    {
     "data": {
      "image/png": "[encoded data removed]",
      "text/plain": [
       "<Figure size 432x288 with 2 Axes>"
      ]
     },
     "metadata": {
      "needs_background": "light"
     },
     "output_type": "display_data"
    }
   ],
   "source": [
    "df2 = df.astype(int)\n",
    "df2 = pd.crosstab(df2['mean'], df2['std'])\n",
    "sns.heatmap(df2)"
   ]
  },
  {
   "cell_type": "code",
   "execution_count": 25,
   "metadata": {},
   "outputs": [],
   "source": [
    "# TODO justify these\n",
    "MEAN_UP, MEAN_DOWN = 7, 120  #mean_down, mean_up (based around the described df frame)\n",
    "LAST_WRITE_NB_FRAMES = 20"
   ]
  },
  {
   "cell_type": "code",
   "execution_count": 8,
   "metadata": {},
   "outputs": [],
   "source": [
    "# TODO comment\n",
    "def split_video(video_path):\n",
    "    video = cv2.VideoCapture(video_path)\n",
    "    i = 0\n",
    "    df_video = pd.DataFrame(columns = ['mean', 'std'])\n",
    "    while(video.isOpened()):\n",
    "        ret, image = video.read()\n",
    "        if ret == True:\n",
    "            video.set(cv2.CAP_PROP_POS_MSEC,(i*1000))\n",
    "            image = image * mask\n",
    "            m, s = compute_mean_std(image, mask)\n",
    "            df_video.loc[i] = [m[0,0], s[0,0]]\n",
    "            i += 1\n",
    "        else:\n",
    "            break\n",
    "    video.release()\n",
    "    return df_video"
   ]
  },
  {
   "cell_type": "code",
   "execution_count": 32,
   "metadata": {},
   "outputs": [],
   "source": [
    "#Creates samples from a video\n",
    "def create_samples_from_video(read_path, write_path, sample_count, max_count):\n",
    "    \"\"\"\n",
    "    Select images from videos based on brightness criteria and write them to the corresponding folder\n",
    "    Can not select more than max_count images\n",
    "    Images have to be separated by a minimum number of frames in the video as to avoid selecting nigh identical images.\n",
    "    \"\"\"\n",
    "    video = cv2.VideoCapture(read_path)\n",
    "    i = 0\n",
    "    last_write = 100 #variable to avoid writing 2 images that are almost the same \n",
    "    \n",
    "    while(video.isOpened() and sample_count < max_count):\n",
    "        ret, image = video.read()\n",
    "        if ret == True:\n",
    "            #if we have access to an image, we check the mean, after applying the mask\n",
    "            image = image * mask\n",
    "            mean = compute_mean(image, mask)\n",
    "            \n",
    "            if (mean > MEAN_UP or mean < MEAN_DOWN) and (last_write > LAST_WRITE_NB_FRAMES) :\n",
    "                video_id = do_split(read_path)[-1].split('.')[-2]\n",
    "                cv2.imwrite(f\"{write_path}/{video_id}_{i}.png\", image)\n",
    "                sample_count = sample_count + 1\n",
    "                i+=1\n",
    "                last_write = 0\n",
    "            \n",
    "            last_write += 1\n",
    "        else:\n",
    "            #need to get out the while loop if we can't read a file\n",
    "            break\n",
    "    video.release()\n",
    "    return sample_count"
   ]
  },
  {
   "cell_type": "code",
   "execution_count": 27,
   "metadata": {},
   "outputs": [],
   "source": [
    "def multiple_videos_sample(read_path, write_path, nb_samples, train_ratio):\n",
    "    \"\"\"\n",
    "    Obtain nb_samples images from videos based on brightness criteria\n",
    "    and splits them between the training and validation folders\n",
    "    \"\"\"\n",
    "    videos_path = np.random.permutation(glob.glob(read_path))\n",
    "    nb_samples_train = int(nb_samples * train_ratio)\n",
    "    sample_count = 0\n",
    "    \n",
    "        \n",
    "    # Writing images to respective folders\n",
    "    for video_path in videos_path:\n",
    "        if sample_count >= nb_samples:\n",
    "            break\n",
    "        elif sample_count < nb_samples_train:\n",
    "            sample_count = create_samples_from_video(video_path, f\"{write_path}/train/false\", sample_count, max_count=nb_samples)\n",
    "        else:\n",
    "            sample_count = create_samples_from_video(video_path, f\"{write_path}/val/false\", sample_count, max_count=nb_samples)\n",
    "            \n",
    "    if sample_count < nb_samples:\n",
    "        print(f\"Could not obtain enough samples: \\nObtained : {sample_count} \\nDemanded: {nb_samples}\")"
   ]
  },
  {
   "cell_type": "code",
   "execution_count": 33,
   "metadata": {},
   "outputs": [],
   "source": [
    "read_path = \"data/Ultrason butterflynetwork/*.mp4\"\n",
    "nb_samples = 300\n",
    "train_ratio = 0.8\n",
    "multiple_videos_sample(read_path, write_path, nb_samples, train_ratio)"
   ]
  },
  {
   "cell_type": "code",
   "execution_count": null,
   "metadata": {},
   "outputs": [],
   "source": [
    "\"\"\"# Renaming to appropriate format\n",
    "def replace_dot_by_underscore(path):\n",
    "    path_list = glob.glob(path)\n",
    "    \n",
    "    for old_path in path_list:\n",
    "        new_path = old_path.replace(\".\", \"_\", 1)\n",
    "        os.rename(old_path, new_path)\n",
    "        \n",
    "replace_dot_by_underscore(\"data/Ultrason butterflynetwork/*\")\"\"\""
   ]
  },
  {
   "cell_type": "code",
   "execution_count": null,
   "metadata": {},
   "outputs": [],
   "source": [
    "df_split = split_video(\"data/Ultrason butterflynetwork/1_1_QAID_1.mp4\")"
   ]
  },
  {
   "cell_type": "code",
   "execution_count": null,
   "metadata": {},
   "outputs": [],
   "source": [
    "df_split"
   ]
  },
  {
   "cell_type": "code",
   "execution_count": null,
   "metadata": {},
   "outputs": [],
   "source": [
    "df_split = split_video(\"data/Ultrason butterflynetwork/1_9_QLD.mp4\")"
   ]
  },
  {
   "cell_type": "code",
   "execution_count": 135,
   "metadata": {
    "colab": {
     "base_uri": "https://localhost:8080/",
     "height": 299
    },
    "id": "7H_woI-D1QA6",
    "outputId": "d3eb6b44-ddc0-4182-e175-99f4b9ef27b9"
   },
   "outputs": [],
   "source": [
    "df_video2 = df_video.astype(int)\n",
    "df_video2 = pd.crosstab(df_video2['mean'], df_video2['std'])\n",
    "sns.heatmap(df_video2)"
   ]
  },
  {
   "cell_type": "markdown",
   "metadata": {
    "colab": {
     "base_uri": "https://localhost:8080/",
     "height": 677
    },
    "id": "u1Q3Q2-Z4meD",
    "outputId": "25eea101-1722-436c-e51f-f3d0ff16c6b2"
   },
   "source": [
    "Trying to regroup all formats used"
   ]
  },
  {
   "cell_type": "code",
   "execution_count": 149,
   "metadata": {},
   "outputs": [],
   "source": [
    "butterfly_img_path = glob.glob(\"data/Ultrason butterflynetwork/*.png\")\n",
    "lus_neg_img_path = glob.glob(\"data/ppredictus_images/LUS images/negative/*.png\")\n",
    "vid_img_path = glob.glob(\"data/Ultrason butterflynetwork/*.mp4\")\n",
    "\n",
    "def count_formats(path_list):\n",
    "    counts = {}\n",
    "    for path in path_list: \n",
    "        key = cv2.imread(path).shape\n",
    "        if key not in counts.keys():\n",
    "            counts[key] = 0\n",
    "        else:\n",
    "            counts[key] = counts[key] + 1\n",
    "    return counts\n",
    "\n",
    "def count_formats_vid(path_list):\n",
    "    counts = {}\n",
    "    for path in path_list:\n",
    "        video = cv2.VideoCapture(path)\n",
    "        success, img = video.read()\n",
    "        \n",
    "        if success == False :\n",
    "            raise(\"Exception nulle\")\n",
    "        \n",
    "        key = img.shape\n",
    "        video.release()\n",
    "        if key not in counts.keys():\n",
    "            counts[key] = 0\n",
    "        else:\n",
    "            counts[key] = counts[key] + 1\n",
    "    return counts"
   ]
  }
 ],
 "metadata": {
  "colab": {
   "collapsed_sections": [],
   "name": "lus.ipynb",
   "provenance": []
  },
  "kernelspec": {
   "display_name": "Python 3",
   "language": "python",
   "name": "python3"
  },
  "language_info": {
   "codemirror_mode": {
    "name": "ipython",
    "version": 3
   },
   "file_extension": ".py",
   "mimetype": "text/x-python",
   "name": "python",
   "nbconvert_exporter": "python",
   "pygments_lexer": "ipython3",
   "version": "3.8.5"
  }
 },
 "nbformat": 4,
 "nbformat_minor": 4
}

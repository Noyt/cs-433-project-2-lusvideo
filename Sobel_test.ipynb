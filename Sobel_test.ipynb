{
 "cells": [
  {
   "cell_type": "code",
   "execution_count": 3,
   "metadata": {},
   "outputs": [],
   "source": [
    "import numpy as np\n",
    "import cv2"
   ]
  },
  {
   "cell_type": "code",
   "execution_count": 7,
   "metadata": {},
   "outputs": [],
   "source": [
    "#This scipt applies a sobel filter on an provided image\n",
    "#This was an attempt to detect the pleural line on the LUS image\n",
    "\n",
    "image_path = 'data/Ultrason butterflynetwork/1_103_QPIG_1.png'\n",
    "\n",
    "src = cv2.imread(image_path, cv2.IMREAD_COLOR)\n",
    "scale = 1\n",
    "delta = 0\n",
    "ddepth = cv2.CV_16S\n",
    "\n",
    "if src is None:\n",
    "    print(\"Error: provided source does not exist\")\n",
    "    \n",
    "\n",
    "else:\n",
    "    src = cv2.GaussianBlur(src, (3, 3), 0)\n",
    "    gray = cv2.cvtColor(src, cv2.COLOR_BGR2GRAY)\n",
    "\n",
    "\n",
    "    grad_x = cv2.Sobel(gray, ddepth, 1, 0, ksize=3, scale=scale, delta=delta, borderType=cv2.BORDER_DEFAULT)\n",
    "    #grad_x = cv2.Scharr(gray,ddepth,1,0)\n",
    "    # Gradient-Y\n",
    "    #grad_y = cv2.Scharr(gray,ddepth,0,1)\n",
    "    grad_y = cv2.Sobel(gray, ddepth, 0, 1, ksize=3, scale=scale, delta=delta, borderType=cv2.BORDER_DEFAULT)\n",
    "\n",
    "\n",
    "    abs_grad_x = cv2.convertScaleAbs(grad_x)\n",
    "    abs_grad_y = cv2.convertScaleAbs(grad_y)\n",
    "\n",
    "\n",
    "    grad = cv2.addWeighted(abs_grad_x, 0.5, abs_grad_y, 0.5, 0)\n",
    "\n",
    "\n",
    "    cv2.imwrite('data/Sobel_filter_test.png', grad)"
   ]
  },
  {
   "cell_type": "code",
   "execution_count": null,
   "metadata": {},
   "outputs": [],
   "source": []
  }
 ],
 "metadata": {
  "kernelspec": {
   "display_name": "Python 3",
   "language": "python",
   "name": "python3"
  },
  "language_info": {
   "codemirror_mode": {
    "name": "ipython",
    "version": 3
   },
   "file_extension": ".py",
   "mimetype": "text/x-python",
   "name": "python",
   "nbconvert_exporter": "python",
   "pygments_lexer": "ipython3",
   "version": "3.7.6"
  }
 },
 "nbformat": 4,
 "nbformat_minor": 4
}

{
 "cells": [
  {
   "cell_type": "markdown",
   "metadata": {
    "id": "YapYOP_srblT"
   },
   "source": [
    "# Extracting high value lung ultrasound images from video for the diagnosis and prognosis of COVID-19.\n",
    "\n",
    "This notebook is a step by step process through our work on lung ultrasound (LUS) image extraction. Our aim is to automate expert selection of image frames in a LUS video that have high clinical predictive value.\n",
    "\n",
    "For this task, we decided to explore a supervised learning approach, using a binary CNN classifier able to distinguish LUS images based on their clinical predictive value. Our dataset is the Ultrason butterlfynetwork, which comprises images and videos of thoracic sites from patients recruited at the CHUV emergency room in Lausanne Switzerland between XX(date) and XX(date).\n",
    "\n",
    "### Imports"
   ]
  },
  {
   "cell_type": "code",
   "execution_count": 1,
   "metadata": {
    "id": "TZoIvD9nJuD1"
   },
   "outputs": [],
   "source": [
    "from encoders import CnnEncoder\n",
    "from cumulator import base\n",
    "from plots import plot\n",
    "import torch\n",
    "import torch.nn as nn\n",
    "import torchvision\n",
    "import torch.optim as optim\n",
    "from torch.optim import lr_scheduler\n",
    "from torchvision import datasets, models, transforms\n",
    "from PIL import Image\n",
    "import numpy as np\n",
    "import pandas as pd\n",
    "import matplotlib.pyplot as plt\n",
    "import time\n",
    "import os\n",
    "import copy\n",
    "import cv2\n",
    "import seaborn as sns\n",
    "import glob\n",
    "import sys\n",
    "%load_ext autoreload\n",
    "%autoreload 2"
   ]
  },
  {
   "cell_type": "markdown",
   "metadata": {
    "id": "PBJ5-wpVMirO"
   },
   "source": [
    "## 1. Data Exploration\n",
    "\n",
    "We first explore our dataset in order to gain comprehension of our data. We are interested in the distribution of images and videos, per patient and per thoracic site, as well as their formats.\n",
    "\n",
    "### 1.1 Image format and count\n",
    "We first count our images and videos, and check whether they all have the same formats."
   ]
  },
  {
   "cell_type": "code",
   "execution_count": 2,
   "metadata": {},
   "outputs": [],
   "source": [
    "butterfly_img_paths = glob.glob(\"data/Ultrason_butterflynetwork/*.png\")\n",
    "butterfly_vid_paths = glob.glob(\"data/Ultrason_butterflynetwork/*.mp4\")\n",
    "\n",
    "def count_img_formats(path_list):\n",
    "    \"\"\"\n",
    "    Count each occurence of formats in the given list of images path\n",
    "    \n",
    "    path_list: list(str)\n",
    "    \"\"\"\n",
    "    counts = {}\n",
    "    for path in path_list:\n",
    "        key = cv2.imread(path).shape\n",
    "        if key not in counts.keys():\n",
    "            counts[key] = 0\n",
    "        else:\n",
    "            counts[key] = counts[key] + 1\n",
    "            \n",
    "    print(\"=== Images ===\")\n",
    "    for format_ in counts.keys():\n",
    "        print(f\"Occurences of format {format_}: {counts[format_]}\")\n",
    "        \n",
    "def count_vid_formats(path_list):\n",
    "    \"\"\"\n",
    "    Count each occurence of formats in the given list of videos path, by looking at the format of the first frame of the video\n",
    "    \n",
    "    path_list: list(str)\n",
    "    \"\"\"\n",
    "    counts = {}\n",
    "    for path in path_list:\n",
    "        video = cv2.VideoCapture(path)\n",
    "        success, img = video.read()\n",
    "        \n",
    "        if success == False :\n",
    "            raise(f\"Video {path} can not be read\")\n",
    "        \n",
    "        key = img.shape\n",
    "        video.release()\n",
    "        if key not in counts.keys():\n",
    "            counts[key] = 0\n",
    "        else:\n",
    "            counts[key] = counts[key] + 1\n",
    "            \n",
    "    print(\"=== Videos ===\")    \n",
    "    for format_ in counts.keys():\n",
    "        print(f\"Occurences of format {format_}: {counts[format_]}\")"
   ]
  },
  {
   "cell_type": "code",
   "execution_count": 3,
   "metadata": {},
   "outputs": [
    {
     "name": "stdout",
     "output_type": "stream",
     "text": [
      "=== Images ===\n",
      "Occurences of format (1080, 791, 3): 3453\n",
      "Occurences of format (1080, 790, 3): 2\n",
      "=== Videos ===\n",
      "Occurences of format (1080, 792, 3): 1265\n"
     ]
    }
   ],
   "source": [
    "count_img_formats(butterfly_img_paths)\n",
    "count_vid_formats(butterfly_vid_paths)"
   ]
  },
  {
   "cell_type": "markdown",
   "metadata": {},
   "source": [
    "First of all, we get that we have 3455 images in our dataset, and 1265 videos.\n",
    "\n",
    "We see that not all images have the exact same format, which will require us to implement a resizing step in our pre-processing pipeline. It seems however, that our videos do share the same format. Considering that most of our images in the dataset come from videos, we may ask ourselves if this format difference may be explained by an eventual difference accross the frames of a video.\n",
    "\n",
    "Let's inspect more precisely our videos:"
   ]
  },
  {
   "cell_type": "code",
   "execution_count": 4,
   "metadata": {},
   "outputs": [],
   "source": [
    "def count_formats_one_vid(vid_path):\n",
    "    \"\"\"\n",
    "    For a single video, count all frame formats\n",
    "    \"\"\"\n",
    "    counts = {}\n",
    "    video = cv2.VideoCapture(vid_path)\n",
    "    while(video.isOpened()):\n",
    "        success, img = video.read()\n",
    "        \n",
    "        if success == False :\n",
    "            video.release()\n",
    "            break\n",
    "        key = img.shape\n",
    "        if key not in counts.keys():\n",
    "            counts[key] = 0\n",
    "        else:\n",
    "            counts[key] = counts[key] + 1\n",
    "    return counts"
   ]
  },
  {
   "cell_type": "code",
   "execution_count": 5,
   "metadata": {},
   "outputs": [
    {
     "data": {
      "text/plain": [
       "{(1080, 792, 3): 232}"
      ]
     },
     "execution_count": 5,
     "metadata": {},
     "output_type": "execute_result"
    }
   ],
   "source": [
    "one_vid_path = butterfly_vid_paths[0]\n",
    "count_formats_one_vid(one_vid_path)"
   ]
  },
  {
   "cell_type": "markdown",
   "metadata": {},
   "source": [
    "It seems to not be the case. We don't really know where (in most of the cases) this 1 column of pixels went when people saved those images..."
   ]
  },
  {
   "cell_type": "markdown",
   "metadata": {},
   "source": [
    "### 1.2 Data distribution per site\n",
    "When a clinician performs a lung ultrasound (LUS) examination, he generally acquires several images on different thoracic sites. Each lung is partitioned in four quadrants (anterior or posterior and superior or inferior). They also perform one lung ultrasound on the side of the lung which implies that a patient could have up to 10 different videos of his lungs.\n",
    "\n",
    "Here we look how is our data distributed according to each site:"
   ]
  },
  {
   "cell_type": "code",
   "execution_count": 6,
   "metadata": {},
   "outputs": [],
   "source": [
    "def count_sites(paths_list):\n",
    "    \"\"\"\n",
    "    Count the number of occurences of each thoracic sites\n",
    "    \n",
    "    paths_list: list(str)\n",
    "    \"\"\"\n",
    "    site_nb = {}\n",
    "    for data_path in paths_list:\n",
    "        site_ext = data_path.split('_')[2]#get the site\n",
    "        site = site_ext.split(\".\")[0]#removes the extension\n",
    "        \n",
    "        if site not in site_nb.keys():\n",
    "            site_nb[site] = 1\n",
    "        else:\n",
    "            site_nb[site] = site_nb[site] + 1\n",
    "    return site_nb\n",
    "\n",
    "def plot_sites(paths_list):\n",
    "    \"\"\"\n",
    "    Plot the distribution of sites\n",
    "    \n",
    "    paths_list: list(str)\n",
    "    \"\"\"\n",
    "    \n",
    "    butterfly_site_nb = dict(sorted(count_sites(paths_list).items()))\n",
    "    plt.figure(figsize=(9,5))\n",
    "    plt.bar(butterfly_site_nb.keys(), butterfly_site_nb.values())\n",
    "    plt.title('Image count per site')\n",
    "    plt.ylabel(\"Number of images\")\n",
    "    plt.xlabel('Sites')\n",
    "    plt.show()"
   ]
  },
  {
   "cell_type": "code",
   "execution_count": 8,
   "metadata": {},
   "outputs": [
    {
     "name": "stdout",
     "output_type": "stream",
     "text": [
      "data/Ultrason_butterflynetwork/1.46_QAIG_1.png\n",
      "data/Ultrason_butterflynetwork/1.156_QASD_1.png\n"
     ]
    },
    {
     "ename": "FileNotFoundError",
     "evalue": "[WinError 2] Le fichier spécifié est introuvable: 'data/Ultrason_butterflynetwork/1.156_QASD-1.png' -> 'data/Ultrason_butterflynetwork/1.156_QASD_1.png'",
     "output_type": "error",
     "traceback": [
      "\u001b[1;31m---------------------------------------------------------------------------\u001b[0m",
      "\u001b[1;31mFileNotFoundError\u001b[0m                         Traceback (most recent call last)",
      "\u001b[1;32m<ipython-input-8-b64787fd7c11>\u001b[0m in \u001b[0;36m<module>\u001b[1;34m\u001b[0m\n\u001b[0;32m      8\u001b[0m \u001b[0mnew_path2\u001b[0m \u001b[1;33m=\u001b[0m \u001b[0mold_path2\u001b[0m\u001b[1;33m.\u001b[0m\u001b[0mreplace\u001b[0m\u001b[1;33m(\u001b[0m\u001b[1;34m\"QASD-1\"\u001b[0m\u001b[1;33m,\u001b[0m \u001b[1;34m\"QASD_1\"\u001b[0m\u001b[1;33m)\u001b[0m\u001b[1;33m\u001b[0m\u001b[1;33m\u001b[0m\u001b[0m\n\u001b[0;32m      9\u001b[0m \u001b[0mprint\u001b[0m\u001b[1;33m(\u001b[0m\u001b[0mnew_path2\u001b[0m\u001b[1;33m)\u001b[0m\u001b[1;33m\u001b[0m\u001b[1;33m\u001b[0m\u001b[0m\n\u001b[1;32m---> 10\u001b[1;33m \u001b[0mos\u001b[0m\u001b[1;33m.\u001b[0m\u001b[0mrename\u001b[0m\u001b[1;33m(\u001b[0m\u001b[0mold_path2\u001b[0m\u001b[1;33m,\u001b[0m \u001b[0mnew_path2\u001b[0m\u001b[1;33m)\u001b[0m\u001b[1;33m\u001b[0m\u001b[1;33m\u001b[0m\u001b[0m\n\u001b[0m",
      "\u001b[1;31mFileNotFoundError\u001b[0m: [WinError 2] Le fichier spécifié est introuvable: 'data/Ultrason_butterflynetwork/1.156_QASD-1.png' -> 'data/Ultrason_butterflynetwork/1.156_QASD_1.png'"
     ]
    }
   ],
   "source": [
    "#Some files had misspellings, we take fix this here by modifying their names:\n",
    "old_path = 'data/Ultrason_butterflynetwork/1.46_QAiG_1.png'\n",
    "new_path = old_path.replace(\"QAiG\", \"QAIG\", 1)\n",
    "print(new_path)\n",
    "os.rename(old_path, new_path)\n",
    "\n",
    "old_path2 = 'data/Ultrason_butterflynetwork/1.156_QASD-1.png'\n",
    "new_path2 = old_path2.replace(\"QASD-1\", \"QASD_1\")\n",
    "print(new_path2)\n",
    "os.rename(old_path2, new_path2)"
   ]
  },
  {
   "cell_type": "code",
   "execution_count": 44,
   "metadata": {},
   "outputs": [
    {
     "data": {
      "text/plain": [
       "{'QAID': 352,\n",
       " 'QAIG': 337,\n",
       " 'QASD': 380,\n",
       " 'QASG': 368,\n",
       " 'QLD': 219,\n",
       " 'QLG': 212,\n",
       " 'QPID': 341,\n",
       " 'QPIG': 331,\n",
       " 'QPSD': 379,\n",
       " 'QPSG': 366}"
      ]
     },
     "execution_count": 44,
     "metadata": {},
     "output_type": "execute_result"
    }
   ],
   "source": [
    "butterfly_img_path = glob.glob(\"data/Ultrason_butterflynetwork/*.png\")\n",
    "butterfly_img_site_nb = dict(sorted(count_sites(butterfly_img_path).items()))\n",
    "butterfly_img_site_nb"
   ]
  },
  {
   "cell_type": "markdown",
   "metadata": {},
   "source": [
    "Unknown sites UNK and QASP are considered as outliers and removed from the dataset."
   ]
  },
  {
   "cell_type": "code",
   "execution_count": 10,
   "metadata": {},
   "outputs": [],
   "source": [
    "remove_paths = glob.glob(\"data/Ultrason_butterflynetwork/*UNK*\") + glob.glob(\"data/Ultrason_butterflynetwork/*QASP*\")\n",
    "for path in remove_paths:\n",
    "    os.remove(path)"
   ]
  },
  {
   "cell_type": "code",
   "execution_count": 11,
   "metadata": {},
   "outputs": [
    {
     "data": {
      "image/png": "[encoded data removed]",
      "text/plain": [
       "<Figure size 648x360 with 1 Axes>"
      ]
     },
     "metadata": {
      "needs_background": "light"
     },
     "output_type": "display_data"
    }
   ],
   "source": [
    "# Plotting the sites distribution\n",
    "butterfly_img_path = glob.glob(\"data/Ultrason_butterflynetwork/*.png\")\n",
    "plot_sites(butterfly_img_path)"
   ]
  },
  {
   "cell_type": "markdown",
   "metadata": {},
   "source": [
    "The images are rather uniformly distributed except for sites QLD and QLG, which have around have around 220 images while the others have 350-400 images per site.\n",
    "We now proceed to the same analysis on videos."
   ]
  },
  {
   "cell_type": "code",
   "execution_count": 12,
   "metadata": {},
   "outputs": [
    {
     "name": "stdout",
     "output_type": "stream",
     "text": [
      "data/Ultrason_butterflynetwork/1.195_QLG.mp4\n",
      "data/Ultrason_butterflynetwork/1.184_QAID_1.mp4\n"
     ]
    }
   ],
   "source": [
    "#Same problem here as before, fixing misspellings\n",
    "old_path = 'data/Ultrason_butterflynetwork/1.195_QlG.mp4'\n",
    "new_path = old_path.replace(\"QlG\", \"QLG\", 1)\n",
    "print(new_path)\n",
    "os.rename(old_path, new_path)\n",
    "\n",
    "old_path2 = 'data/Ultrason_butterflynetwork/1.184_QAiD_1.mp4'\n",
    "new_path2 = old_path2.replace(\"QAiD\", \"QAID\")\n",
    "print(new_path2)\n",
    "os.rename(old_path2, new_path2)"
   ]
  },
  {
   "cell_type": "code",
   "execution_count": 13,
   "metadata": {},
   "outputs": [
    {
     "data": {
      "text/plain": [
       "{'QAID': 129,\n",
       " 'QAIG': 97,\n",
       " 'QASD': 36,\n",
       " 'QASG': 47,\n",
       " 'QLD': 294,\n",
       " 'QLG': 319,\n",
       " 'QPAG': 2,\n",
       " 'QPID': 156,\n",
       " 'QPIG': 128,\n",
       " 'QPSD': 34,\n",
       " 'QPSG': 22}"
      ]
     },
     "execution_count": 13,
     "metadata": {},
     "output_type": "execute_result"
    }
   ],
   "source": [
    "butterfly_vid_path = glob.glob(\"data/Ultrason_butterflynetwork/*.mp4\")\n",
    "butterfly_vid_site_nb = dict(sorted(count_sites(butterfly_vid_path).items()))\n",
    "butterfly_vid_site_nb"
   ]
  },
  {
   "cell_type": "code",
   "execution_count": 14,
   "metadata": {},
   "outputs": [],
   "source": [
    "remove_paths = glob.glob(\"data/Ultrason_butterflynetwork/*QPAG*\")\n",
    "for path in remove_paths:\n",
    "    os.remove(path)"
   ]
  },
  {
   "cell_type": "code",
   "execution_count": 15,
   "metadata": {},
   "outputs": [
    {
     "data": {
      "image/png": "[encoded data removed]",
      "text/plain": [
       "<Figure size 648x360 with 1 Axes>"
      ]
     },
     "metadata": {
      "needs_background": "light"
     },
     "output_type": "display_data"
    }
   ],
   "source": [
    "# Plotting the sites distribution\n",
    "butterfly_vid_path = glob.glob(\"data/Ultrason_butterflynetwork/*.mp4\")\n",
    "plot_sites(butterfly_vid_path)"
   ]
  },
  {
   "cell_type": "markdown",
   "metadata": {},
   "source": [
    "Surprisingly, we have a lot more QLD and QLG videos. We know that experts didn't extract an image from every videos or could extract multiple from one. This is why we have this difference between the images distribtution and the video distribution."
   ]
  },
  {
   "cell_type": "markdown",
   "metadata": {},
   "source": [
    "### 1.3 Data distribution per patient\n",
    "\n",
    "Having studied the distribution per site, we are now interested in the way images and videos are distributed among patients. We start by counting the number of videos per patient and plot the corresponding histograM."
   ]
  },
  {
   "cell_type": "code",
   "execution_count": 16,
   "metadata": {},
   "outputs": [],
   "source": [
    "def patients_videos(vid_path_list):\n",
    "    \"\"\"\n",
    "    Counts the number of videos per patient\n",
    "    \n",
    "    vid_path_list: list(str), list of paths of videos\n",
    "    Returns: dict, Dictionnary with patient number (name) and number of videos associated to him \n",
    "    \"\"\"\n",
    "    patients = {}\n",
    "    for path in vid_path_list:\n",
    "        splitted_path = path.split('_') #split the path\n",
    "        patient = splitted_path[0][-1] + \"_\" + splitted_path[1] #extract the patient's number\n",
    "        if patient not in patients.keys():\n",
    "            patients[patient] = 1\n",
    "        else:\n",
    "            patients[patient] = patients[patient] + 1\n",
    "    return patients"
   ]
  },
  {
   "cell_type": "code",
   "execution_count": 17,
   "metadata": {},
   "outputs": [
    {
     "name": "stdout",
     "output_type": "stream",
     "text": [
      "We have 193 patients with videos\n"
     ]
    }
   ],
   "source": [
    "nb_patients_videos = patients_videos(butterfly_vid_paths)\n",
    "print(f\"We have {len(nb_patients_videos.keys())} patients with videos\")"
   ]
  },
  {
   "cell_type": "code",
   "execution_count": 18,
   "metadata": {},
   "outputs": [
    {
     "data": {
      "image/png": "[encoded data removed]",
      "text/plain": [
       "<Figure size 432x288 with 1 Axes>"
      ]
     },
     "metadata": {
      "needs_background": "light"
     },
     "output_type": "display_data"
    }
   ],
   "source": [
    "# Plotting video distribution per patient\n",
    "plt.hist(nb_patients_videos.values(), bins = max(nb_patients_videos.values()))\n",
    "plt.title('Number of patients with x videos dedicated to them')\n",
    "plt.xlabel('Number of videos')\n",
    "plt.ylabel('Number of patients')\n",
    "plt.show()"
   ]
  },
  {
   "cell_type": "markdown",
   "metadata": {},
   "source": [
    "The figure provides two different insights. First, there is a majority of patients with lower video counts, and second, there must be patients that have multiple video for the same site.\n",
    "\n",
    "Hence we are interested in knowing how many patients actually have videos for each site."
   ]
  },
  {
   "cell_type": "code",
   "execution_count": 19,
   "metadata": {},
   "outputs": [
    {
     "data": {
      "image/png": "[encoded data removed]",
      "text/plain": [
       "<Figure size 432x288 with 1 Axes>"
      ]
     },
     "metadata": {
      "needs_background": "light"
     },
     "output_type": "display_data"
    }
   ],
   "source": [
    "def sites_per_patient_videos(vid_path_list):\n",
    "    \"\"\"\n",
    "    For each patient, counts the number of sites represented in their associated videos\n",
    "    \n",
    "    vid_path_list: list of paths of videos\n",
    "    Returns: Dictionnary with patient number (name) and all sites that were performed on him\n",
    "    \"\"\"\n",
    "    patients = {}\n",
    "    for path in vid_path_list:\n",
    "        splitted_path = path.split('_') #get the patient and the\n",
    "        patient = splitted_path[0][-1] + \"_\" + splitted_path[1]\n",
    "        \n",
    "        site = splitted_path[2] #get the name of the video\n",
    "        site = site.split(\".\")[0] #removes the extension\n",
    "        \n",
    "        if patient not in patients.keys():\n",
    "            patients[patient] = set([site])\n",
    "        else:\n",
    "            patients[patient].add(site)\n",
    "    return patients\n",
    "\n",
    "sites_per_patient_dic = sites_per_patient_videos(butterfly_vid_paths)\n",
    "nb_sites_per_patient = { k : len(v) for k,v in sites_per_patient_dic.items()}\n",
    "\n",
    "plt.hist(nb_sites_per_patient.values(), bins = max(nb_sites_per_patient.values()))\n",
    "plt.title('Number of patients having x sites available on video')\n",
    "plt.xlabel('Number of sites')\n",
    "plt.ylabel('Number of patients')\n",
    "plt.show()"
   ]
  },
  {
   "cell_type": "markdown",
   "metadata": {},
   "source": [
    "From the figure we can observe that almost no patient has a video for each site. This result could potentially be a limitation for our model training, and considerations should be made for future data collection in order to obtain a more even and complete representation."
   ]
  },
  {
   "cell_type": "markdown",
   "metadata": {
    "id": "G5jpXz_R_cP8"
   },
   "source": [
    "## 2. Creating Datasets\n",
    "\n",
    "In order to train our classifier, we require an image dataset with two different kind of labels:\n",
    "\n",
    "* \"True\" images: selected by expert clinicians, these images are known to well represent a patient site and its useful features (such as pleural line, A-lines, B-lines ... etc).\n",
    "* \"False\" images: taken from an LUS video, these images were not selected by an expert clinicians thus they do not represent the perfect shot for a given patient site (image can be blurry, features could be missing or capture angle can be wrong, thus making images difficult to interpret).\n",
    "\n",
    "Our initial data contains roughly a thousand expert selected images, which intuitively form our \"True\" labeled images. However, we do not have any image that would correspond to our \"False\" label. Therefore we have to generate them ourselves. We use the following methodology to accomplish our goal:\n",
    "\n",
    "For a given \"True\" image, we iterate through images from its corresponding video. For each of these candidate images, we compute a similarity value to the \"True\" image and select the candidate image as a False-labelled one based on this criteria. We require that the expert image and the selected image are not too similar to each other (since it would make the classification too hard), yet they should not be too different either (in order to better simulate the clinician options when selecting the best image). The details of the similarity metric are explained in later sections. \n",
    "\n",
    "\n",
    "### 2.1 Creating file folders\n",
    "\n",
    "First of all, we need to define a function that creates folders that will contain our data. These follow a specific architecture that enables us to use PyTorch Datasets and Dataloaders classes conveniently."
   ]
  },
  {
   "cell_type": "code",
   "execution_count": 54,
   "metadata": {
    "id": "CAq_xxIcQAHU"
   },
   "outputs": [],
   "source": [
    "def make_directory(path):\n",
    "    \"\"\"\n",
    "    Create PyTorch compatible folder architecture\n",
    "    \"\"\"\n",
    "    ! mkdir $path\n",
    "    for kind in ['train/', 'val/']:\n",
    "        sub_path = path + kind\n",
    "        ! mkdir $sub_path\n",
    "        for label in ['true', 'false']:\n",
    "            full_path = sub_path + label\n",
    "            ! mkdir $full_path"
   ]
  },
  {
   "cell_type": "markdown",
   "metadata": {},
   "source": [
    "### 2.2 Image preprocessing\n",
    "\n",
    "Raw images in the dataset are not ready to be used for training. Indeed, they are non biological features on the images, such as the image scale or the name of the corresponding site, that have to be removed in order to train our model without bias. These features can be visualized on the following image."
   ]
  },
  {
   "cell_type": "code",
   "execution_count": 21,
   "metadata": {},
   "outputs": [
    {
     "data": {
      "image/png": "[encoded data removed]",
      "text/plain": [
       "<PIL.PngImagePlugin.PngImageFile image mode=RGB size=439x600 at 0x1DCE28840C8>"
      ]
     },
     "execution_count": 21,
     "metadata": {},
     "output_type": "execute_result"
    }
   ],
   "source": [
    "# Visualise a raw image\n",
    "raw_img = Image.open(\"data/Ultrason_butterflynetwork/1.10_QAID.png\")\n",
    "raw_img.thumbnail((600, 600))\n",
    "raw_img"
   ]
  },
  {
   "cell_type": "markdown",
   "metadata": {},
   "source": [
    "Four features are to be removed, the lower and upper text, the blue B in the upper left corner, and the image scale on the right. To do so, we create a mask that we will use to crop images. The mask has been crafted manually, as we did not have time to implement automatic edge detrection or similar mechanism to automate the process. We also define a couple functions for common preprocessing operations."
   ]
  },
  {
   "cell_type": "code",
   "execution_count": 22,
   "metadata": {},
   "outputs": [],
   "source": [
    "# Main mask used to capture the relevant portion of LUS images. Crafted manually. Is [1,1,1] where image is relevant\n",
    "\n",
    "# Image dimensions\n",
    "nb_rows = 1080\n",
    "nb_cols = 792\n",
    "nb_channels = 3\n",
    "\n",
    "mask = np.zeros([nb_rows, nb_cols, nb_channels])\n",
    "\n",
    "# Filling mask\n",
    "for row in range(nb_rows):\n",
    "    for col in range(nb_cols):\n",
    "        # Delimitations of the cone like portion of a LUS image\n",
    "        if row > 25 and row < 1010 and col < 762 and (-4/5 * row + 293) < col and (4/5*row) + nb_cols-293 > col:\n",
    "            mask[row, col] = [1,1,1]\n",
    "\n",
    "mask = mask.astype('uint8')\n",
    "            \n",
    "            \n",
    "def resize_crop(image, mask, nb_cols=792, nb_rows=1080):\n",
    "    \"\"\"\n",
    "    Resize image and apply mask\n",
    "    \"\"\"\n",
    "    masked_img = cv2.resize(image, (nb_cols, nb_rows))*mask\n",
    "    return masked_img\n",
    "\n",
    "\n",
    "def read_crop(image_path, mask, nb_cols=792, nb_rows=1080):\n",
    "    \"\"\"\n",
    "    Read image, resize to given dimensions and apply mask.\n",
    "    \n",
    "    Returns: image name, image\n",
    "    \"\"\"\n",
    "    # Reading and masking image\n",
    "    cv2_img = cv2.imread(image_path)\n",
    "    masked_img = resize_crop(cv2_img, mask, nb_cols, nb_rows)\n",
    "\n",
    "    # Selecting image name from path name\n",
    "    img_name = os.path.split(image_path)[-1]\n",
    "    \n",
    "    return img_name, masked_img"
   ]
  },
  {
   "cell_type": "markdown",
   "metadata": {},
   "source": [
    "### 2.3 Obtaining Test images\n",
    "\n",
    "Before any dataset generation, we need to select and exclude a few images and video for model testing purposes. We selected ten patient IDs by hand. These patients present the advantage of having images and corresponding videos for most of the sites."
   ]
  },
  {
   "cell_type": "code",
   "execution_count": 23,
   "metadata": {},
   "outputs": [
    {
     "name": "stderr",
     "output_type": "stream",
     "text": [
      "La syntaxe de la commande n'est pas correcte.\n",
      "La syntaxe de la commande n'est pas correcte.\n"
     ]
    }
   ],
   "source": [
    "# Create test data folder\n",
    "! mkdir data/test\n",
    "! mkdir data/test/test\n",
    "\n",
    "# patient ids used for the test set\n",
    "test_ids = ['.151_','.136_', '.117_', '.45_', '.16_', '.77_', '.164_', '.57', '.36_', '.157_']\n",
    "\n",
    "files_path = glob.glob(\"data/Ultrason_butterflynetwork/*\")\n",
    "test_files = [file for file in files_path if any([(id_ in file) for id_ in test_ids])]\n",
    "\n",
    "for file in test_files:\n",
    "    img_name = os.path.split(file)[-1]\n",
    "    os.rename(file, f\"data/test/test/{img_name}\")"
   ]
  },
  {
   "cell_type": "markdown",
   "metadata": {},
   "source": [
    "### 2.3 Obtaining Training and Validation images\n",
    "\n",
    "We now proceed to dataset generation. First let us define our image similarity mechanism. \n",
    "\n",
    "#### 2.3.1 Similarity between two images\n",
    "\n",
    "The similarity measure was inspired to us by ([Yang et al.](https://arxiv.org/abs/1706.04737), 2017). The idea is to encode images to lesser dimensional formats, reshape them as vector, and finally compute their cosine similarity. The encoding process is necessary to reduce complexity. Encoding can be done in various ways. In our project, we selected two methods:\n",
    "* Computing the mean brightness for a couple subparts of the image, in a convolutional fashion.\n",
    "* Using a pretrained CNN model (resnet18) stripped from its last layers, as an encoder\n",
    "\n",
    "The function ```create_brightness_matrix``` implements the first method. The second method is handled by the CnnEncoder class from the encoder.py file."
   ]
  },
  {
   "cell_type": "code",
   "execution_count": 29,
   "metadata": {
    "id": "LzgnfG9xH3He"
   },
   "outputs": [],
   "source": [
    "def create_brightness_matrix(img, mask=mask, side_length=200):\n",
    "    \"\"\"\n",
    "    Split the image in a couple subparts for which the mean brightness is computed\n",
    "    \"\"\"\n",
    "    img = resize_crop(img, mask)\n",
    "    # half_side determines the number of pixels per step of the \"convolution\"\n",
    "    half_side = int(side_length / 2)\n",
    "    nb_rows = img.shape[0] // half_side\n",
    "    nb_cols = img.shape[1] // half_side\n",
    "    matrix = np.zeros((nb_rows, nb_cols))\n",
    "    \n",
    "    for i in range(nb_rows) :\n",
    "        for j in range(nb_cols) :\n",
    "            matrix[i, j] = np.mean(img[half_side * i : half_side * i + side_length, half_side * j : half_side * j + side_length]) / 3\n",
    "    \n",
    "    return matrix\n",
    "\n",
    "\n",
    "def cosine_similarity(vector1, vector2):\n",
    "    \"\"\"\n",
    "    Compute the cosine similarity between two vectors of the same size\n",
    "    \"\"\"\n",
    "    return np.dot(vector1,vector2)/(np.linalg.norm(vector1)*np.linalg.norm(vector2))"
   ]
  },
  {
   "cell_type": "code",
   "execution_count": 32,
   "metadata": {},
   "outputs": [
    {
     "name": "stdout",
     "output_type": "stream",
     "text": [
      "Image of format (1080, 791, 3) is encoded to format (10, 7)\n",
      "Image of format (1080, 791, 3) is encoded to format torch.Size([1, 4, 4])\n"
     ]
    }
   ],
   "source": [
    "# Displaying encoded images shapes\n",
    "img = cv2.imread(butterfly_img_path[0])\n",
    "\n",
    "# First method\n",
    "print(f\"Image of format {img.shape} is encoded to format {create_brightness_matrix(img).shape}\")\n",
    "\n",
    "# Second method\n",
    "cnn = CnnEncoder()\n",
    "cnn = cnn.eval()\n",
    "print(f\"Image of format {img.shape} is encoded to format {cnn(img).shape}\")"
   ]
  },
  {
   "cell_type": "markdown",
   "metadata": {},
   "source": [
    "#### 2.3.2 Generating datasets\n",
    "\n",
    "#### 2.3.2.1 Selection based on brightness\n",
    "Before trying our selection based on the similarity, we tried a naive approach which was to consider that the mean brightness over all the image was sufficient to descriminate *True* frome *False image*. The idea is that an image where there is no information will always be bad (wave hits a bone) , and one that is too bright will also be bad.\n",
    "\n",
    "We first create datasets structure\n",
    "\n"
   ]
  },
  {
   "cell_type": "code",
   "execution_count": 55,
   "metadata": {},
   "outputs": [
    {
     "name": "stderr",
     "output_type": "stream",
     "text": [
      "La syntaxe de la commande n'est pas correcte.\n",
      "La syntaxe de la commande n'est pas correcte.\n",
      "La syntaxe de la commande n'est pas correcte.\n",
      "La syntaxe de la commande n'est pas correcte.\n",
      "La syntaxe de la commande n'est pas correcte.\n",
      "La syntaxe de la commande n'est pas correcte.\n",
      "La syntaxe de la commande n'est pas correcte.\n"
     ]
    }
   ],
   "source": [
    "dataset_path = \"data/butter_proc_images_mean_brightness/\"\n",
    "make_directory(dataset_path)"
   ]
  },
  {
   "cell_type": "markdown",
   "metadata": {},
   "source": [
    "##### Generate true images\n",
    "We define a function that selects a number of samples true samples, crops them, and put them in the train or val folder according to the train ratio"
   ]
  },
  {
   "cell_type": "code",
   "execution_count": 62,
   "metadata": {},
   "outputs": [],
   "source": [
    "def generate_true_for_mean_brightness(nb_samples, ratio, read_path, write_path, mask):\n",
    "    \"\"\"\n",
    "    Crops nb_spamples images from the given folder and \n",
    "    organises them in training, validation folders, in \"true\" labeled subfolders\n",
    "    \"\"\"\n",
    "    images_path = glob.glob(read_path)\n",
    "    \n",
    "    # sparating test images and shuffling\n",
    "    np.random.seed(1)\n",
    "    images_path = [img for img in images_path if not any([(id_ in img) for id_ in test_ids])]\n",
    "    images_path = np.random.permutation(images_path)\n",
    "    \n",
    "    train = int(nb_samples * ratio)\n",
    "\n",
    "    # Writing training and validation images to folder\n",
    "    for i, image in enumerate(images_path[:nb_samples]):\n",
    "        img_name, masked_img = read_crop(image, mask)\n",
    "        \n",
    "        if i >= train:\n",
    "            cv2.imwrite(f\"{write_path}/val/true/{img_name}\", masked_img)\n",
    "        else:\n",
    "            cv2.imwrite(f\"{write_path}/train/true/{img_name}\", masked_img)"
   ]
  },
  {
   "cell_type": "code",
   "execution_count": 61,
   "metadata": {},
   "outputs": [],
   "source": [
    "#Fills the datasets with the true samples\n",
    "nb_samples = 1000 #There should be only 3285 samples in the whole dataset\n",
    "train_ratio = 0.8\n",
    "read_path = \"data/Ultrason_butterflynetwork/*.png\"\n",
    "\n",
    "generate_true_for_mean_brightness(nb_samples, train_ratio, read_path, dataset_path, mask)"
   ]
  },
  {
   "cell_type": "markdown",
   "metadata": {},
   "source": [
    "##### Generate false images\n",
    "We first want to know what hyperparameters makes sens to select we need to select in order to not make dumb predictions. So we first create a function that computes the mean over the masked area"
   ]
  },
  {
   "cell_type": "code",
   "execution_count": 63,
   "metadata": {},
   "outputs": [],
   "source": [
    "def compute_mean(img, mask):\n",
    "    \"\"\"\n",
    "    Computes the mean brightness over the masked area\n",
    "    \"\"\"\n",
    "    active = np.sum(mask)/nb_channels\n",
    "    mean = np.mean(img)*(nb_cols*nb_rows/active)\n",
    "\n",
    "    return mean"
   ]
  },
  {
   "cell_type": "markdown",
   "metadata": {},
   "source": [
    "We create the function create_brightness_df that will have the brightness over all expert images, We will then use the method describe to know how does our dataset look like and plot the histogram to see the distribution."
   ]
  },
  {
   "cell_type": "code",
   "execution_count": 72,
   "metadata": {},
   "outputs": [],
   "source": [
    "def create_brightness_df(images_path_list, mask):\n",
    "    \"\"\"\n",
    "    Creates a dataframe that contains all mean values in the sample paths\n",
    "    \"\"\"\n",
    "    df = pd.DataFrame(columns = ['mean'])\n",
    "    for i,image in enumerate(images_path_list):\n",
    "        img = cv2.imread(image)\n",
    "        m = compute_mean(img, mask)\n",
    "        df.loc[i] = [m]\n",
    "        \n",
    "    return df"
   ]
  },
  {
   "cell_type": "code",
   "execution_count": 73,
   "metadata": {},
   "outputs": [],
   "source": [
    "train_img_path = glob.glob(\"data/butter_proc_images_mean_brightness/train/true/*.png\") #can only have infos over our train sample\n",
    "brightness_df = create_brightness_df(train_img_path, mask)"
   ]
  },
  {
   "cell_type": "code",
   "execution_count": 74,
   "metadata": {},
   "outputs": [
    {
     "data": {
      "text/html": [
       "<div>\n",
       "<style scoped>\n",
       "    .dataframe tbody tr th:only-of-type {\n",
       "        vertical-align: middle;\n",
       "    }\n",
       "\n",
       "    .dataframe tbody tr th {\n",
       "        vertical-align: top;\n",
       "    }\n",
       "\n",
       "    .dataframe thead th {\n",
       "        text-align: right;\n",
       "    }\n",
       "</style>\n",
       "<table border=\"1\" class=\"dataframe\">\n",
       "  <thead>\n",
       "    <tr style=\"text-align: right;\">\n",
       "      <th></th>\n",
       "      <th>mean</th>\n",
       "    </tr>\n",
       "  </thead>\n",
       "  <tbody>\n",
       "    <tr>\n",
       "      <th>count</th>\n",
       "      <td>800.000000</td>\n",
       "    </tr>\n",
       "    <tr>\n",
       "      <th>mean</th>\n",
       "      <td>28.918892</td>\n",
       "    </tr>\n",
       "    <tr>\n",
       "      <th>std</th>\n",
       "      <td>13.274421</td>\n",
       "    </tr>\n",
       "    <tr>\n",
       "      <th>min</th>\n",
       "      <td>5.022914</td>\n",
       "    </tr>\n",
       "    <tr>\n",
       "      <th>25%</th>\n",
       "      <td>19.129459</td>\n",
       "    </tr>\n",
       "    <tr>\n",
       "      <th>50%</th>\n",
       "      <td>26.711118</td>\n",
       "    </tr>\n",
       "    <tr>\n",
       "      <th>75%</th>\n",
       "      <td>36.784782</td>\n",
       "    </tr>\n",
       "    <tr>\n",
       "      <th>max</th>\n",
       "      <td>85.383995</td>\n",
       "    </tr>\n",
       "  </tbody>\n",
       "</table>\n",
       "</div>"
      ],
      "text/plain": [
       "             mean\n",
       "count  800.000000\n",
       "mean    28.918892\n",
       "std     13.274421\n",
       "min      5.022914\n",
       "25%     19.129459\n",
       "50%     26.711118\n",
       "75%     36.784782\n",
       "max     85.383995"
      ]
     },
     "execution_count": 74,
     "metadata": {},
     "output_type": "execute_result"
    }
   ],
   "source": [
    "brightness_df.describe()"
   ]
  },
  {
   "cell_type": "code",
   "execution_count": 75,
   "metadata": {},
   "outputs": [
    {
     "data": {
      "text/plain": [
       "array([[<matplotlib.axes._subplots.AxesSubplot object at 0x000001DCE7DE4788>]],\n",
       "      dtype=object)"
      ]
     },
     "execution_count": 75,
     "metadata": {},
     "output_type": "execute_result"
    },
    {
     "data": {
      "image/png": "[encoded data removed]",
      "text/plain": [
       "<Figure size 432x288 with 1 Axes>"
      ]
     },
     "metadata": {
      "needs_background": "light"
     },
     "output_type": "display_data"
    }
   ],
   "source": [
    "brightness_df.hist()"
   ]
  },
  {
   "cell_type": "markdown",
   "metadata": {},
   "source": [
    "Observing how the dataset is distributed, we consider that the images that are less than the standard deviation are considered as outliers, we thus select this result as hyperparameters to select our images."
   ]
  },
  {
   "cell_type": "code",
   "execution_count": 96,
   "metadata": {},
   "outputs": [],
   "source": [
    "# TODO justify these\n",
    "MEAN_DOWN, MEAN_UP = 15, 41 #mean_down, mean_up ( ~= mean +- std )\n",
    "LAST_SEEN_NB_FRAMES = 40"
   ]
  },
  {
   "cell_type": "code",
   "execution_count": 98,
   "metadata": {},
   "outputs": [],
   "source": [
    "#Seems to depend on the OS\n",
    "def do_split(path) :\n",
    "    '''\n",
    "    Splits the path according to the OS\n",
    "    '''\n",
    "    if(sys.platform.startswith('linux')) :\n",
    "        return path.split('/')\n",
    "    else :\n",
    "        return path.split('\\\\')"
   ]
  },
  {
   "cell_type": "markdown",
   "metadata": {},
   "source": [
    "The two following methods allow to create *False* samples in the train and val set based on the the two parameters ```MEAN_DOWN``` and ```MEAN_UP``` we previously set."
   ]
  },
  {
   "cell_type": "code",
   "execution_count": 101,
   "metadata": {},
   "outputs": [],
   "source": [
    "#Creates samples from a video\n",
    "def create_false_samples_from_video(read_path, write_path, max_count, sample_count=0):\n",
    "    \"\"\"\n",
    "    Select images from videos based on brightness criteria and write them to the corresponding folder\n",
    "    Can not select more than max_count images\n",
    "    Images have to be separated by a minimum number of frames in the video as to avoid selecting nigh identical images.\n",
    "    \"\"\"\n",
    "    video = cv2.VideoCapture(read_path)\n",
    "    i = 0\n",
    "    last_write = 100 #variable to avoid writing 2 successive images\n",
    "    \n",
    "    while(video.isOpened() and sample_count < max_count):\n",
    "        ret, image = video.read()\n",
    "        if ret == True:\n",
    "            #if we have access to an image, we check the mean, after applying the mask\n",
    "            image = image * mask\n",
    "            mean = compute_mean(image, mask)\n",
    "            \n",
    "            if (mean > MEAN_DOWN or mean < MEAN_UP) and (last_write > LAST_WRITE_NB_FRAMES) :\n",
    "                video_id = do_split(read_path)[-1].split('.')[-2]\n",
    "                cv2.imwrite(f\"{write_path}/{video_id}_{i}.png\", image)\n",
    "                sample_count = sample_count + 1\n",
    "                i+=1\n",
    "                last_write = 0\n",
    "            \n",
    "            last_write += 1\n",
    "        else:\n",
    "            #need to get out the while loop if we can't read a file\n",
    "            break\n",
    "    video.release()\n",
    "    return sample_count"
   ]
  },
  {
   "cell_type": "code",
   "execution_count": 102,
   "metadata": {},
   "outputs": [],
   "source": [
    "def generate_false_samples_from_videos(read_path, write_path, nb_samples, train_ratio, test_ids):\n",
    "    \"\"\"\n",
    "    Obtain nb_samples images from videos based on brightness criteria\n",
    "    and splits them between the training and validation folders\n",
    "    Obtain images for the test ids\n",
    "    \"\"\"\n",
    "    np.random.seed(1)\n",
    "    path = np.random.permutation(glob.glob(read_path))\n",
    "    videos_path_test = [img for img in path if any([(id_ in img) for id_ in test_ids])] #WE DON'T SELECT VIDEOS IN TEST\n",
    "    videos_path = [img for img in path if not any([(id_ in img) for id_ in test_ids])]\n",
    "        \n",
    "    nb_samples_train = int(nb_samples * train_ratio)\n",
    "    sample_count = 0\n",
    "        \n",
    "    # Writing training and validation images to respective folders\n",
    "    for video_path in videos_path:\n",
    "        if sample_count >= nb_samples:\n",
    "            break\n",
    "        elif sample_count < nb_samples_train:\n",
    "            sample_count = create_false_samples_from_video(video_path, f\"{write_path}/train/false\", max_count=nb_samples, sample_count=sample_count)\n",
    "        else:\n",
    "            sample_count = create_false_samples_from_video(video_path, f\"{write_path}/val/false\", max_count=nb_samples, sample_count=sample_count)\n",
    "        \n",
    "    \n",
    "    if sample_count < nb_samples:\n",
    "        print(f\"Could not obtain enough samples: \\nObtained : {sample_count} \\nDemanded: {nb_samples}\")"
   ]
  },
  {
   "cell_type": "code",
   "execution_count": 103,
   "metadata": {},
   "outputs": [
    {
     "ename": "KeyboardInterrupt",
     "evalue": "",
     "output_type": "error",
     "traceback": [
      "\u001b[1;31m---------------------------------------------------------------------------\u001b[0m",
      "\u001b[1;31mKeyboardInterrupt\u001b[0m                         Traceback (most recent call last)",
      "\u001b[1;32m<ipython-input-103-49661712c08f>\u001b[0m in \u001b[0;36m<module>\u001b[1;34m\u001b[0m\n\u001b[0;32m      2\u001b[0m \u001b[1;33m\u001b[0m\u001b[0m\n\u001b[0;32m      3\u001b[0m \u001b[0mread_path\u001b[0m \u001b[1;33m=\u001b[0m \u001b[1;34m\"data/Ultrason_butterflynetwork/*.mp4\"\u001b[0m\u001b[1;33m\u001b[0m\u001b[1;33m\u001b[0m\u001b[0m\n\u001b[1;32m----> 4\u001b[1;33m \u001b[0mgenerate_false_samples_from_videos\u001b[0m\u001b[1;33m(\u001b[0m\u001b[0mread_path\u001b[0m\u001b[1;33m,\u001b[0m \u001b[0mdataset_path\u001b[0m\u001b[1;33m,\u001b[0m \u001b[0mnb_samples\u001b[0m\u001b[1;33m,\u001b[0m \u001b[0mtrain_ratio\u001b[0m\u001b[1;33m,\u001b[0m \u001b[0mtest_ids\u001b[0m\u001b[1;33m)\u001b[0m\u001b[1;33m\u001b[0m\u001b[1;33m\u001b[0m\u001b[0m\n\u001b[0m",
      "\u001b[1;32m<ipython-input-102-dc413568ca92>\u001b[0m in \u001b[0;36mgenerate_false_samples_from_videos\u001b[1;34m(read_path, write_path, nb_samples, train_ratio, test_ids)\u001b[0m\n\u001b[0;32m     18\u001b[0m             \u001b[1;32mbreak\u001b[0m\u001b[1;33m\u001b[0m\u001b[1;33m\u001b[0m\u001b[0m\n\u001b[0;32m     19\u001b[0m         \u001b[1;32melif\u001b[0m \u001b[0msample_count\u001b[0m \u001b[1;33m<\u001b[0m \u001b[0mnb_samples_train\u001b[0m\u001b[1;33m:\u001b[0m\u001b[1;33m\u001b[0m\u001b[1;33m\u001b[0m\u001b[0m\n\u001b[1;32m---> 20\u001b[1;33m             \u001b[0msample_count\u001b[0m \u001b[1;33m=\u001b[0m \u001b[0mcreate_false_samples_from_video\u001b[0m\u001b[1;33m(\u001b[0m\u001b[0mvideo_path\u001b[0m\u001b[1;33m,\u001b[0m \u001b[1;34mf\"{write_path}/train/false\"\u001b[0m\u001b[1;33m,\u001b[0m \u001b[0mmax_count\u001b[0m\u001b[1;33m=\u001b[0m\u001b[0mnb_samples\u001b[0m\u001b[1;33m,\u001b[0m \u001b[0msample_count\u001b[0m\u001b[1;33m=\u001b[0m\u001b[0msample_count\u001b[0m\u001b[1;33m)\u001b[0m\u001b[1;33m\u001b[0m\u001b[1;33m\u001b[0m\u001b[0m\n\u001b[0m\u001b[0;32m     21\u001b[0m         \u001b[1;32melse\u001b[0m\u001b[1;33m:\u001b[0m\u001b[1;33m\u001b[0m\u001b[1;33m\u001b[0m\u001b[0m\n\u001b[0;32m     22\u001b[0m             \u001b[0msample_count\u001b[0m \u001b[1;33m=\u001b[0m \u001b[0mcreate_false_samples_from_video\u001b[0m\u001b[1;33m(\u001b[0m\u001b[0mvideo_path\u001b[0m\u001b[1;33m,\u001b[0m \u001b[1;34mf\"{write_path}/val/false\"\u001b[0m\u001b[1;33m,\u001b[0m \u001b[0mmax_count\u001b[0m\u001b[1;33m=\u001b[0m\u001b[0mnb_samples\u001b[0m\u001b[1;33m,\u001b[0m \u001b[0msample_count\u001b[0m\u001b[1;33m=\u001b[0m\u001b[0msample_count\u001b[0m\u001b[1;33m)\u001b[0m\u001b[1;33m\u001b[0m\u001b[1;33m\u001b[0m\u001b[0m\n",
      "\u001b[1;32m<ipython-input-101-5703c67cf270>\u001b[0m in \u001b[0;36mcreate_false_samples_from_video\u001b[1;34m(read_path, write_path, max_count, sample_count)\u001b[0m\n\u001b[0;32m     11\u001b[0m \u001b[1;33m\u001b[0m\u001b[0m\n\u001b[0;32m     12\u001b[0m     \u001b[1;32mwhile\u001b[0m\u001b[1;33m(\u001b[0m\u001b[0mvideo\u001b[0m\u001b[1;33m.\u001b[0m\u001b[0misOpened\u001b[0m\u001b[1;33m(\u001b[0m\u001b[1;33m)\u001b[0m \u001b[1;32mand\u001b[0m \u001b[0msample_count\u001b[0m \u001b[1;33m<\u001b[0m \u001b[0mmax_count\u001b[0m\u001b[1;33m)\u001b[0m\u001b[1;33m:\u001b[0m\u001b[1;33m\u001b[0m\u001b[1;33m\u001b[0m\u001b[0m\n\u001b[1;32m---> 13\u001b[1;33m         \u001b[0mret\u001b[0m\u001b[1;33m,\u001b[0m \u001b[0mimage\u001b[0m \u001b[1;33m=\u001b[0m \u001b[0mvideo\u001b[0m\u001b[1;33m.\u001b[0m\u001b[0mread\u001b[0m\u001b[1;33m(\u001b[0m\u001b[1;33m)\u001b[0m\u001b[1;33m\u001b[0m\u001b[1;33m\u001b[0m\u001b[0m\n\u001b[0m\u001b[0;32m     14\u001b[0m         \u001b[1;32mif\u001b[0m \u001b[0mret\u001b[0m \u001b[1;33m==\u001b[0m \u001b[1;32mTrue\u001b[0m\u001b[1;33m:\u001b[0m\u001b[1;33m\u001b[0m\u001b[1;33m\u001b[0m\u001b[0m\n\u001b[0;32m     15\u001b[0m             \u001b[1;31m#if we have access to an image, we check the mean, after applying the mask\u001b[0m\u001b[1;33m\u001b[0m\u001b[1;33m\u001b[0m\u001b[1;33m\u001b[0m\u001b[0m\n",
      "\u001b[1;31mKeyboardInterrupt\u001b[0m: "
     ]
    }
   ],
   "source": [
    "#Generate the false images in the train and val samples. We generate as much False as True images.\n",
    "\n",
    "read_path = \"data/Ultrason_butterflynetwork/*.mp4\"\n",
    "generate_false_samples_from_videos(read_path, dataset_path, nb_samples, train_ratio, test_ids)"
   ]
  },
  {
   "cell_type": "markdown",
   "metadata": {},
   "source": [
    "#### 2.3.2.2 Selection based on similarity\n",
    "\n",
    "Armed with an encoder and a similarity measure, we can now tackle the image selection problem. We will proceed as described in Section 2.\n",
    "\n",
    "The function ```generate_dataset``` iterates through images present in the given folder, namely the Ultrason butterflynetwork one. For each of these expert selected image, the function tries to find a corresponding (same patient, same site) video through the function ```find_video```. If such video is found, the ```extract_similar_image``` function then iterates through the video, computing the similarity measure between the video's frames and the expert image, in a sequential fashion. If a given frame satisfies the similarity criterias (not too different, not too similar), then both the expert image and the selected frames are saved in their respective folder, namely the True and False labelled ones.\n",
    "\n",
    "Whenever a frame does not satisfy the similarity criterias, we do not compute similarity for the next couples frames because these are likely to give the same results considering there is very little change between two successive images in a video. This allows us to slightly reduce time complexity. The variable ```LAST_SEEN_NB_FRAMES``` represents this amount of skipped frames."
   ]
  },
  {
   "cell_type": "code",
   "execution_count": 40,
   "metadata": {},
   "outputs": [],
   "source": [
    "LAST_SEEN_NB_FRAMES = 40\n",
    "\n",
    "def generate_dataset(read_path, write_path, encoder, min_similarity, max_similarity, nb_samples=300 , train_ratio=0.8):\n",
    "    \"\"\"\n",
    "    Creates samples for training and validation sets, using an image similarity criteria.\n",
    "    \"\"\"\n",
    "    \n",
    "    np.random.seed(1)\n",
    "    images_path = read_path + '.png'\n",
    "    images_path = np.random.permutation(glob.glob(images_path))\n",
    "    images_path = [img for img in images_path if not any([(id_ in img) for id_ in test_ids])] # ignore images used for testing\n",
    "    \n",
    "    videos_path = read_path + '.mp4'\n",
    "    videos_path = set(glob.glob(videos_path)) # transformed to set for faster queries\n",
    "    \n",
    "    sample_count = 0\n",
    "    \n",
    "    # Writing training and validation images to respective folders\n",
    "    for image_path in images_path:\n",
    "        # Finding corresponding video\n",
    "        success, video_path = find_video(image_path, videos_path)\n",
    "        if success == True:\n",
    "            if sample_count >= nb_samples:\n",
    "                break\n",
    "            else:\n",
    "                count = extract_similar_image(image_path, video_path, f\"{write_path}train/\", encoder, min_similarity, max_similarity)\n",
    "                sample_count += count\n",
    "    \n",
    "    # Moving some images to to validation folder\n",
    "    nb_samples_val = int(sample_count - (sample_count * train_ratio)) # mandatory due to floating point precision\n",
    "    move_to_val(f\"{write_path}train/\", f\"{write_path}val/\", nb_samples_val)\n",
    "    \n",
    "    print(f\"Obtained : {sample_count} samples\")\n",
    "             \n",
    "            \n",
    "def move_to_val(img_path, val_path, nb_samples_val):\n",
    "    \"\"\"\n",
    "    Move nb_samples_val images from the img_path folder to the val_path folder\n",
    "    \"\"\"\n",
    "    img_to_move_false = glob.glob(img_path+'false/*')[:nb_samples_val]\n",
    "    img_to_move_true = glob.glob(img_path+'true/*')[:nb_samples_val]\n",
    "    val_path_false = val_path + 'false'\n",
    "    val_path_true = val_path + 'true'\n",
    "    \n",
    "    for file_false, file_true in zip(img_to_move_false, img_to_move_true):\n",
    "        !mv $file_false $val_path_false\n",
    "        !mv $file_true $val_path_true\n",
    "\n",
    "        \n",
    "def extract_similar_image(image_path, video_path, write_path, encoder, min_similarity, max_similarity, mask=mask):\n",
    "    \"\"\"\n",
    "    For a given image, extract a similar sample from the corresponding video (if it exists) and save it.\n",
    "    \"\"\"\n",
    "    # Extracting and encoding the reference expert image\n",
    "    exp_image = cv2.imread(image_path)\n",
    "    exp_image_code = encoder(exp_image).reshape(-1)\n",
    "    \n",
    "    # Video exploitation\n",
    "    video = cv2.VideoCapture(video_path)\n",
    "    last_seen = LAST_SEEN_NB_FRAMES # variable to avoid considering two sample images that are almost the same \n",
    "    extraction_success = False\n",
    "    \n",
    "    while(video.isOpened()):\n",
    "        success, sample_image = video.read()\n",
    "        if (success == True):\n",
    "            if (last_seen >= LAST_SEEN_NB_FRAMES) :\n",
    "                # If we have access to an image, we encode it and verify the similarity to the expert image\n",
    "                sample_image_code = encoder(sample_image).reshape(-1)\n",
    "                similarity = cosine_similarity(exp_image_code, sample_image_code)\n",
    "                # If the similarity criterion is satisfied, the image is selected\n",
    "                if (similarity > min_similarity and similarity < max_similarity):\n",
    "                    \n",
    "                    # Saving sampled image\n",
    "                    _, image_id = os.path.split(image_path)\n",
    "                    cv2.imwrite(f\"{write_path}false/{image_id}\", resize_crop(sample_image, mask))\n",
    "                    \n",
    "                    # Saving corresponding expert image\n",
    "                    cv2.imwrite(f\"{write_path}true/{image_id}\", resize_crop(exp_image, mask))\n",
    "                    \n",
    "                    extraction_success = True\n",
    "                    video.release()\n",
    "                    break # cv2 does not release video fast enough\n",
    "                else:\n",
    "                    last_seen = 0\n",
    "        else:\n",
    "            #need to get out the while loop if we can't read a file\n",
    "            video.release()\n",
    "        last_seen += 1\n",
    "    \n",
    "    return extraction_success\n",
    "\n",
    "        \n",
    "def find_video(image_path, videos_path):\n",
    "    \"\"\"\n",
    "    For a given unique image path, find if there is corresponding video in the given list of videos paths\n",
    "    \n",
    "    image_path: str, path of single image\n",
    "    videos_path: set containing paths of all videos\n",
    "    return: bool, str (operation success, video path)\n",
    "    \"\"\"\n",
    "    video_path = image_path[:-4] + '.mp4'\n",
    "    if(video_path in videos_path):\n",
    "        return True, video_path\n",
    "    else:\n",
    "        return False, None"
   ]
  },
  {
   "cell_type": "markdown",
   "metadata": {},
   "source": [
    "Generating the datasets."
   ]
  },
  {
   "cell_type": "code",
   "execution_count": 41,
   "metadata": {},
   "outputs": [
    {
     "name": "stdout",
     "output_type": "stream",
     "text": [
      "\n",
      " ########## Encoder (brightMat) with similarity bounds (0.75) and (0.85) ##########\n",
      "\n",
      "Obtained : 199 samples\n",
      "\n",
      " ########## Encoder (cnn) with similarity bounds (0.75) and (0.85) ##########\n",
      "\n",
      "Obtained : 44 samples\n",
      "\n",
      " ########## Encoder (brightMat) with similarity bounds (0.8) and (0.9) ##########\n",
      "\n",
      "Obtained : 292 samples\n",
      "\n",
      " ########## Encoder (cnn) with similarity bounds (0.8) and (0.9) ##########\n",
      "\n",
      "Obtained : 111 samples\n",
      "\n",
      " ########## Encoder (brightMat) with similarity bounds (0.85) and (0.95) ##########\n",
      "\n",
      "Obtained : 478 samples\n",
      "\n",
      " ########## Encoder (cnn) with similarity bounds (0.85) and (0.95) ##########\n",
      "\n",
      "Obtained : 289 samples\n",
      "\n",
      " ########## Encoder (brightMat) with similarity bounds (0.9) and (0.97) ##########\n",
      "\n",
      "Obtained : 550 samples\n",
      "\n",
      " ########## Encoder (cnn) with similarity bounds (0.9) and (0.97) ##########\n",
      "\n",
      "Obtained : 428 samples\n"
     ]
    }
   ],
   "source": [
    "similarity_bounds = [[0.75, 0.85], [0.8, 0.9], [0.85, 0.95], [0.9, 0.97]]\n",
    "cnn = CnnEncoder()\n",
    "cnn = cnn.eval()\n",
    "encoders = [(create_brightness_matrix, 'brightMat'), (cnn, 'cnn')]\n",
    "for bounds in similarity_bounds:\n",
    "    for encoder in encoders:\n",
    "        dataset_path = f'data/butter_proc_images_{encoder[1]}_{bounds[0]}_{bounds[1]}/'\n",
    "        make_directory(dataset_path)\n",
    "        print(f'\\n ########## Encoder ({encoder[1]}) with similarity bounds ({bounds[0]}) and ({bounds[1]}) ##########\\n')\n",
    "        generate_dataset(read_path='data/Ultrason_butterflynetwork/*',\n",
    "                         write_path=dataset_path,\n",
    "                         encoder=encoder[0],\n",
    "                         min_similarity=bounds[0],\n",
    "                         max_similarity=bounds[1],\n",
    "                         nb_samples=1000)"
   ]
  },
  {
   "cell_type": "markdown",
   "metadata": {},
   "source": [
    "## 3. Model training\n",
    "\n",
    "Having generated a couple of datasets with different similarity criterions, we can now train a model for each of those.\n",
    "\n",
    "We explore transfer learning approaches for its benefits of computational efficiency.\n",
    "In order to train our classifier, we use the ResNet18 model \\cite{he2016deep} pretrained on the ImageNet dataset, on which we will perform fine tuning.\n",
    "Note that the following training code is to a large extent inspired by an official PyTorch tutorial: https://pytorch.org/tutorials/beginner/transfer_learning_tutorial.html\n",
    "\n",
    "We first define data and model loading functions."
   ]
  },
  {
   "cell_type": "code",
   "execution_count": 112,
   "metadata": {},
   "outputs": [],
   "source": [
    "# Data transformations\n",
    "\n",
    "data_transforms = {\n",
    "    'train': transforms.Compose([\n",
    "        transforms.Resize(256),\n",
    "        transforms.CenterCrop(224),\n",
    "        transforms.RandomHorizontalFlip(),\n",
    "        transforms.ToTensor(),\n",
    "        transforms.Normalize([0.485, 0.456, 0.406], [0.229, 0.224, 0.225])\n",
    "    ]),\n",
    "    'val': transforms.Compose([\n",
    "        transforms.Resize(256),\n",
    "        transforms.CenterCrop(224),\n",
    "        transforms.ToTensor(),\n",
    "        transforms.Normalize([0.485, 0.456, 0.406], [0.229, 0.224, 0.225])\n",
    "    ]),\n",
    "}\n",
    "\n",
    "device = torch.device(\"cuda:0\" if torch.cuda.is_available() else \"cpu\")\n",
    "\n",
    "\n",
    "def get_data(data_path):\n",
    "    \"\"\"\n",
    "    Organise data from the given folder into dataloaders and provides dataset sizes and class names\n",
    "    \"\"\"\n",
    "    image_datasets = {x: datasets.ImageFolder(os.path.join(data_path, x),\n",
    "                                              data_transforms[x])\n",
    "                      for x in ['train', 'val']}\n",
    "    dataloaders = {x: torch.utils.data.DataLoader(image_datasets[x], batch_size=4,\n",
    "                                                 shuffle=True, num_workers=4)\n",
    "                  for x in ['train', 'val']}\n",
    "    dataset_sizes = {x: len(image_datasets[x]) for x in ['train', 'val']}\n",
    "    class_names = image_datasets['train'].classes\n",
    "    \n",
    "    return dataloaders, dataset_sizes, class_names\n",
    "    \n",
    "    \n",
    "def get_model_and_parameters(model_type):\n",
    "    \"\"\"\n",
    "    For the required model type, load and adapt pretrained model, and provide training modules\n",
    "    \"\"\"\n",
    "    # Loading pretrained model\n",
    "    if(model_type is \"resnet18\"):\n",
    "        model = models.resnet18(pretrained=True)\n",
    "    elif(model_type is \"googlenet\"):\n",
    "        model = models.googlenet(pretrained=True)\n",
    "    else:\n",
    "        raise Error(f\"Model {model_type} is not supported\")\n",
    "        \n",
    "    num_ftrs = model.fc.in_features\n",
    "    model.fc = nn.Linear(num_ftrs, 2)\n",
    "\n",
    "    model = model.to(device)\n",
    "\n",
    "    criterion = nn.CrossEntropyLoss()\n",
    "\n",
    "    # Fine tuning optimizer\n",
    "    optimizer_ft = optim.SGD(model.parameters(), lr=0.001, momentum=0.9)\n",
    "\n",
    "    # Decay LR by a factor of 0.1 every 7 epochs\n",
    "    exp_lr_scheduler = lr_scheduler.StepLR(optimizer_ft, step_size=7, gamma=0.1)\n",
    "    \n",
    "    return model, criterion, optimizer_ft, exp_lr_scheduler"
   ]
  },
  {
   "cell_type": "markdown",
   "metadata": {},
   "source": [
    "The model is trained over 25 epochs, using cross entropy loss and the Stochastic Gradient Descent with momentum ($\\beta = 0.9$). Our initial learning rate value is $\\gamma = 0.001$ and we use a learning rate optimizer that multiplies it by factor $0.1$ every $7$ epoch. We fine tune the model during training by allowing all the weights of the model to be retrained, and keep the version that performed the best validation accuracy during training."
   ]
  },
  {
   "cell_type": "code",
   "execution_count": 113,
   "metadata": {},
   "outputs": [],
   "source": [
    "def train_model(model, criterion, optimizer, scheduler, num_epochs=25):\n",
    "    since = time.time()\n",
    "\n",
    "    best_model_wts = copy.deepcopy(model.state_dict())\n",
    "    best_acc = 0.0\n",
    "\n",
    "    # Storing training progression values\n",
    "    losses_tr = []\n",
    "    losses_val = []\n",
    "    acc_tr = []\n",
    "    acc_val = []\n",
    "    \n",
    "    for epoch in range(num_epochs):\n",
    "        print('Epoch {}/{}'.format(epoch, num_epochs - 1))\n",
    "        print('-' * 10)\n",
    "\n",
    "        # Each epoch has a training and validation phase\n",
    "        for phase in ['train', 'val']:\n",
    "            if phase == 'train':\n",
    "                model.train()  # Set model to training mode\n",
    "            else:\n",
    "                model.eval()   # Set model to evaluate mode\n",
    "\n",
    "            running_loss = 0.0\n",
    "            running_corrects = 0\n",
    "\n",
    "            # Iterate over data.\n",
    "            for inputs, labels in dataloaders[phase]:\n",
    "                inputs = inputs.to(device)\n",
    "                labels = labels.to(device)\n",
    "\n",
    "                # zero the parameter gradients\n",
    "                optimizer.zero_grad()\n",
    "\n",
    "                # forward\n",
    "                # track history if only in train\n",
    "                with torch.set_grad_enabled(phase == 'train'):\n",
    "                    outputs = model(inputs)\n",
    "                    _, preds = torch.max(outputs, 1)\n",
    "                    loss = criterion(outputs, labels)\n",
    "\n",
    "                    # backward + optimize only if in training phase\n",
    "                    if phase == 'train':\n",
    "                        loss.backward()\n",
    "                        optimizer.step()\n",
    "\n",
    "                # statistics\n",
    "                running_loss += loss.item() * inputs.size(0)\n",
    "                running_corrects += torch.sum(preds == labels.data)\n",
    "            if phase == 'train':\n",
    "                scheduler.step()\n",
    "\n",
    "            epoch_loss = running_loss / dataset_sizes[phase]\n",
    "            epoch_acc = running_corrects.double() / dataset_sizes[phase]\n",
    "\n",
    "            print('{} Loss: {:.4f} Acc: {:.4f}'.format(\n",
    "                phase, epoch_loss, epoch_acc))\n",
    "            \n",
    "            # Storing loss and accuracy values\n",
    "            if phase == 'train':\n",
    "                losses_tr.append(epoch_loss)\n",
    "                acc_tr.append(epoch_acc)\n",
    "            else:\n",
    "                losses_val.append(epoch_loss)\n",
    "                acc_val.append(epoch_acc)\n",
    "            \n",
    "            # deep copy the model\n",
    "            if phase == 'val' and epoch_acc > best_acc:\n",
    "                best_acc = epoch_acc\n",
    "                best_model_wts = copy.deepcopy(model.state_dict())\n",
    "\n",
    "        print()\n",
    "\n",
    "    time_elapsed = time.time() - since\n",
    "    print('Training complete in {:.0f}m {:.0f}s'.format(\n",
    "        time_elapsed // 60, time_elapsed % 60))\n",
    "    print('Best val Acc: {:4f}\\n'.format(best_acc))\n",
    "\n",
    "    # load best model weights\n",
    "    model.load_state_dict(best_model_wts)\n",
    "    return model, losses_tr, losses_val, acc_tr, acc_val"
   ]
  },
  {
   "cell_type": "markdown",
   "metadata": {},
   "source": [
    "We create folders for storing the models and then proceed to training on each dataset. As an additional metric, we are interested in keeping track of the carbon footprint caused by the training of the models. Indeed, long computation task involving GPU consume non negligible amount of energy and being aware of these issues is a required first step towards optimizing for better environmental impact. To do so, we make us of the [Cumulator](https://pypi.org/project/cumulator/) tool."
   ]
  },
  {
   "cell_type": "code",
   "execution_count": 44,
   "metadata": {},
   "outputs": [
    {
     "name": "stdout",
     "output_type": "stream",
     "text": [
      "mkdir: cannot create directory ‘models’: File exists\n",
      "mkdir: cannot create directory ‘figures’: File exists\n"
     ]
    }
   ],
   "source": [
    "! mkdir models\n",
    "! mkdir models/similarity\n",
    "! mkdir models/mean_brightness\n",
    "! mkdir figures"
   ]
  },
  {
   "cell_type": "markdown",
   "metadata": {},
   "source": [
    "#### Mean Brightness model\n",
    "We first train our model on the dataset generated with the mean brightess of the images. "
   ]
  },
  {
   "cell_type": "code",
   "execution_count": 116,
   "metadata": {},
   "outputs": [
    {
     "name": "stdout",
     "output_type": "stream",
     "text": [
      "\n",
      " ########## Mean brightness ##########\n",
      "\n"
     ]
    },
    {
     "ename": "FileNotFoundError",
     "evalue": "[Errno 2] No such file or directory: 'models/similarity/resnet18_natural_mean_brightness'",
     "output_type": "error",
     "traceback": [
      "\u001b[1;31m---------------------------------------------------------------------------\u001b[0m",
      "\u001b[1;31mFileNotFoundError\u001b[0m                         Traceback (most recent call last)",
      "\u001b[1;32m<ipython-input-116-1e6272c0db1e>\u001b[0m in \u001b[0;36m<module>\u001b[1;34m\u001b[0m\n\u001b[0;32m     18\u001b[0m \u001b[1;33m\u001b[0m\u001b[0m\n\u001b[0;32m     19\u001b[0m \u001b[1;31m# Saving model\u001b[0m\u001b[1;33m\u001b[0m\u001b[1;33m\u001b[0m\u001b[1;33m\u001b[0m\u001b[0m\n\u001b[1;32m---> 20\u001b[1;33m \u001b[0mtorch\u001b[0m\u001b[1;33m.\u001b[0m\u001b[0msave\u001b[0m\u001b[1;33m(\u001b[0m\u001b[0mmodel\u001b[0m\u001b[1;33m.\u001b[0m\u001b[0mstate_dict\u001b[0m\u001b[1;33m(\u001b[0m\u001b[1;33m)\u001b[0m\u001b[1;33m,\u001b[0m \u001b[1;34mf\"models/similarity/{model_type}_natural_mean_brightness\"\u001b[0m\u001b[1;33m)\u001b[0m\u001b[1;33m\u001b[0m\u001b[1;33m\u001b[0m\u001b[0m\n\u001b[0m\u001b[0;32m     21\u001b[0m \u001b[1;33m\u001b[0m\u001b[0m\n\u001b[0;32m     22\u001b[0m \u001b[1;31m# Plotting\u001b[0m\u001b[1;33m\u001b[0m\u001b[1;33m\u001b[0m\u001b[1;33m\u001b[0m\u001b[0m\n",
      "\u001b[1;32mC:\\ProgramData\\Anaconda3\\lib\\site-packages\\torch\\serialization.py\u001b[0m in \u001b[0;36msave\u001b[1;34m(obj, f, pickle_module, pickle_protocol)\u001b[0m\n\u001b[0;32m    222\u001b[0m         \u001b[1;33m>>\u001b[0m\u001b[1;33m>\u001b[0m \u001b[0mtorch\u001b[0m\u001b[1;33m.\u001b[0m\u001b[0msave\u001b[0m\u001b[1;33m(\u001b[0m\u001b[0mx\u001b[0m\u001b[1;33m,\u001b[0m \u001b[0mbuffer\u001b[0m\u001b[1;33m)\u001b[0m\u001b[1;33m\u001b[0m\u001b[1;33m\u001b[0m\u001b[0m\n\u001b[0;32m    223\u001b[0m     \"\"\"\n\u001b[1;32m--> 224\u001b[1;33m     \u001b[1;32mreturn\u001b[0m \u001b[0m_with_file_like\u001b[0m\u001b[1;33m(\u001b[0m\u001b[0mf\u001b[0m\u001b[1;33m,\u001b[0m \u001b[1;34m\"wb\"\u001b[0m\u001b[1;33m,\u001b[0m \u001b[1;32mlambda\u001b[0m \u001b[0mf\u001b[0m\u001b[1;33m:\u001b[0m \u001b[0m_save\u001b[0m\u001b[1;33m(\u001b[0m\u001b[0mobj\u001b[0m\u001b[1;33m,\u001b[0m \u001b[0mf\u001b[0m\u001b[1;33m,\u001b[0m \u001b[0mpickle_module\u001b[0m\u001b[1;33m,\u001b[0m \u001b[0mpickle_protocol\u001b[0m\u001b[1;33m)\u001b[0m\u001b[1;33m)\u001b[0m\u001b[1;33m\u001b[0m\u001b[1;33m\u001b[0m\u001b[0m\n\u001b[0m\u001b[0;32m    225\u001b[0m \u001b[1;33m\u001b[0m\u001b[0m\n\u001b[0;32m    226\u001b[0m \u001b[1;33m\u001b[0m\u001b[0m\n",
      "\u001b[1;32mC:\\ProgramData\\Anaconda3\\lib\\site-packages\\torch\\serialization.py\u001b[0m in \u001b[0;36m_with_file_like\u001b[1;34m(f, mode, body)\u001b[0m\n\u001b[0;32m    145\u001b[0m             \u001b[1;33m(\u001b[0m\u001b[0msys\u001b[0m\u001b[1;33m.\u001b[0m\u001b[0mversion_info\u001b[0m\u001b[1;33m[\u001b[0m\u001b[1;36m0\u001b[0m\u001b[1;33m]\u001b[0m \u001b[1;33m==\u001b[0m \u001b[1;36m3\u001b[0m \u001b[1;32mand\u001b[0m \u001b[0misinstance\u001b[0m\u001b[1;33m(\u001b[0m\u001b[0mf\u001b[0m\u001b[1;33m,\u001b[0m \u001b[0mpathlib\u001b[0m\u001b[1;33m.\u001b[0m\u001b[0mPath\u001b[0m\u001b[1;33m)\u001b[0m\u001b[1;33m)\u001b[0m\u001b[1;33m:\u001b[0m\u001b[1;33m\u001b[0m\u001b[1;33m\u001b[0m\u001b[0m\n\u001b[0;32m    146\u001b[0m         \u001b[0mnew_fd\u001b[0m \u001b[1;33m=\u001b[0m \u001b[1;32mTrue\u001b[0m\u001b[1;33m\u001b[0m\u001b[1;33m\u001b[0m\u001b[0m\n\u001b[1;32m--> 147\u001b[1;33m         \u001b[0mf\u001b[0m \u001b[1;33m=\u001b[0m \u001b[0mopen\u001b[0m\u001b[1;33m(\u001b[0m\u001b[0mf\u001b[0m\u001b[1;33m,\u001b[0m \u001b[0mmode\u001b[0m\u001b[1;33m)\u001b[0m\u001b[1;33m\u001b[0m\u001b[1;33m\u001b[0m\u001b[0m\n\u001b[0m\u001b[0;32m    148\u001b[0m     \u001b[1;32mtry\u001b[0m\u001b[1;33m:\u001b[0m\u001b[1;33m\u001b[0m\u001b[1;33m\u001b[0m\u001b[0m\n\u001b[0;32m    149\u001b[0m         \u001b[1;32mreturn\u001b[0m \u001b[0mbody\u001b[0m\u001b[1;33m(\u001b[0m\u001b[0mf\u001b[0m\u001b[1;33m)\u001b[0m\u001b[1;33m\u001b[0m\u001b[1;33m\u001b[0m\u001b[0m\n",
      "\u001b[1;31mFileNotFoundError\u001b[0m: [Errno 2] No such file or directory: 'models/similarity/resnet18_natural_mean_brightness'"
     ]
    }
   ],
   "source": [
    "model_type = \"resnet18\"\n",
    "\n",
    "dataset_path = f'data/butter_proc_images_mean_brightness/'\n",
    "dataloaders, dataset_sizes, class_names = get_data(dataset_path)\n",
    "model, criterion, optimizer_ft, exp_lr_scheduler = get_model_and_parameters(model_type)\n",
    "        \n",
    "print(f'\\n ########## Mean brightness ##########\\n')\n",
    "        \n",
    "# Carbon footprint measurement\n",
    "#cumulator = base.Cumulator()\n",
    "#cumulator.on()\n",
    "        \n",
    "# Training model\n",
    "#model_trained, losses_tr, losses_val, acc_tr, acc_val = train_model(model, criterion, optimizer_ft, exp_lr_scheduler,\n",
    "                                    #num_epochs=25)\n",
    "#cumulator.off()\n",
    "#print(f\"Carbon footprint : {cumulator.total_carbon_footprint():.2f} gCO2eq\")\n",
    "        \n",
    "# Saving model\n",
    "torch.save(model.state_dict(), f\"models/mean_brightness/{model_type}_natural_mean_brightness\")\n",
    "        \n",
    "# Plotting\n",
    "plot(acc_tr, acc_val, 'Training accuracy', 'Validation accuracy',\\\n",
    "     f'Accuracy Mean Brightness',\\\n",
    "     f'figures/accuracy_{model_type}_natural_mean_brightness.png', 'accuracy') #Notice we only have accuracy, no loss function"
   ]
  },
  {
   "cell_type": "markdown",
   "metadata": {},
   "source": [
    "#### Similarity based model"
   ]
  },
  {
   "cell_type": "code",
   "execution_count": 45,
   "metadata": {},
   "outputs": [
    {
     "name": "stdout",
     "output_type": "stream",
     "text": [
      "\n",
      " ########## Encoder (brightMat) with similarity bounds (0.75) and (0.85) ##########\n",
      "\n",
      "Epoch 0/24\n",
      "----------\n"
     ]
    },
    {
     "ename": "KeyboardInterrupt",
     "evalue": "",
     "output_type": "error",
     "traceback": [
      "\u001b[0;31m---------------------------------------------------------------------------\u001b[0m",
      "\u001b[0;31mKeyboardInterrupt\u001b[0m                         Traceback (most recent call last)",
      "\u001b[0;32m<ipython-input-45-b61d2ef909eb>\u001b[0m in \u001b[0;36m<module>\u001b[0;34m\u001b[0m\n\u001b[1;32m     15\u001b[0m         \u001b[0;31m# Training model\u001b[0m\u001b[0;34m\u001b[0m\u001b[0;34m\u001b[0m\u001b[0;34m\u001b[0m\u001b[0m\n\u001b[1;32m     16\u001b[0m         model_trained, losses_tr, losses_val, acc_tr, acc_val = train_model(model, criterion, optimizer_ft, exp_lr_scheduler,\n\u001b[0;32m---> 17\u001b[0;31m                                     num_epochs=25)\n\u001b[0m\u001b[1;32m     18\u001b[0m         \u001b[0mcumulator\u001b[0m\u001b[0;34m.\u001b[0m\u001b[0moff\u001b[0m\u001b[0;34m(\u001b[0m\u001b[0;34m)\u001b[0m\u001b[0;34m\u001b[0m\u001b[0;34m\u001b[0m\u001b[0m\n\u001b[1;32m     19\u001b[0m         \u001b[0mprint\u001b[0m\u001b[0;34m(\u001b[0m\u001b[0;34mf\"Carbon footprint : {cumulator.total_carbon_footprint():.2f} gCO2eq\"\u001b[0m\u001b[0;34m)\u001b[0m\u001b[0;34m\u001b[0m\u001b[0;34m\u001b[0m\u001b[0m\n",
      "\u001b[0;32m<ipython-input-43-de1cd84db74f>\u001b[0m in \u001b[0;36mtrain_model\u001b[0;34m(model, criterion, optimizer, scheduler, num_epochs)\u001b[0m\n\u001b[1;32m     26\u001b[0m \u001b[0;34m\u001b[0m\u001b[0m\n\u001b[1;32m     27\u001b[0m             \u001b[0;31m# Iterate over data.\u001b[0m\u001b[0;34m\u001b[0m\u001b[0;34m\u001b[0m\u001b[0;34m\u001b[0m\u001b[0m\n\u001b[0;32m---> 28\u001b[0;31m             \u001b[0;32mfor\u001b[0m \u001b[0minputs\u001b[0m\u001b[0;34m,\u001b[0m \u001b[0mlabels\u001b[0m \u001b[0;32min\u001b[0m \u001b[0mdataloaders\u001b[0m\u001b[0;34m[\u001b[0m\u001b[0mphase\u001b[0m\u001b[0;34m]\u001b[0m\u001b[0;34m:\u001b[0m\u001b[0;34m\u001b[0m\u001b[0;34m\u001b[0m\u001b[0m\n\u001b[0m\u001b[1;32m     29\u001b[0m                 \u001b[0minputs\u001b[0m \u001b[0;34m=\u001b[0m \u001b[0minputs\u001b[0m\u001b[0;34m.\u001b[0m\u001b[0mto\u001b[0m\u001b[0;34m(\u001b[0m\u001b[0mdevice\u001b[0m\u001b[0;34m)\u001b[0m\u001b[0;34m\u001b[0m\u001b[0;34m\u001b[0m\u001b[0m\n\u001b[1;32m     30\u001b[0m                 \u001b[0mlabels\u001b[0m \u001b[0;34m=\u001b[0m \u001b[0mlabels\u001b[0m\u001b[0;34m.\u001b[0m\u001b[0mto\u001b[0m\u001b[0;34m(\u001b[0m\u001b[0mdevice\u001b[0m\u001b[0;34m)\u001b[0m\u001b[0;34m\u001b[0m\u001b[0;34m\u001b[0m\u001b[0m\n",
      "\u001b[0;32m~/.local/lib/python3.6/site-packages/torch/utils/data/dataloader.py\u001b[0m in \u001b[0;36m__next__\u001b[0;34m(self)\u001b[0m\n\u001b[1;32m    343\u001b[0m \u001b[0;34m\u001b[0m\u001b[0m\n\u001b[1;32m    344\u001b[0m     \u001b[0;32mdef\u001b[0m \u001b[0m__next__\u001b[0m\u001b[0;34m(\u001b[0m\u001b[0mself\u001b[0m\u001b[0;34m)\u001b[0m\u001b[0;34m:\u001b[0m\u001b[0;34m\u001b[0m\u001b[0;34m\u001b[0m\u001b[0m\n\u001b[0;32m--> 345\u001b[0;31m         \u001b[0mdata\u001b[0m \u001b[0;34m=\u001b[0m \u001b[0mself\u001b[0m\u001b[0;34m.\u001b[0m\u001b[0m_next_data\u001b[0m\u001b[0;34m(\u001b[0m\u001b[0;34m)\u001b[0m\u001b[0;34m\u001b[0m\u001b[0;34m\u001b[0m\u001b[0m\n\u001b[0m\u001b[1;32m    346\u001b[0m         \u001b[0mself\u001b[0m\u001b[0;34m.\u001b[0m\u001b[0m_num_yielded\u001b[0m \u001b[0;34m+=\u001b[0m \u001b[0;36m1\u001b[0m\u001b[0;34m\u001b[0m\u001b[0;34m\u001b[0m\u001b[0m\n\u001b[1;32m    347\u001b[0m         \u001b[0;32mif\u001b[0m \u001b[0mself\u001b[0m\u001b[0;34m.\u001b[0m\u001b[0m_dataset_kind\u001b[0m \u001b[0;34m==\u001b[0m \u001b[0m_DatasetKind\u001b[0m\u001b[0;34m.\u001b[0m\u001b[0mIterable\u001b[0m \u001b[0;32mand\u001b[0m\u001b[0;31m \u001b[0m\u001b[0;31m\\\u001b[0m\u001b[0;34m\u001b[0m\u001b[0;34m\u001b[0m\u001b[0m\n",
      "\u001b[0;32m~/.local/lib/python3.6/site-packages/torch/utils/data/dataloader.py\u001b[0m in \u001b[0;36m_next_data\u001b[0;34m(self)\u001b[0m\n\u001b[1;32m    839\u001b[0m \u001b[0;34m\u001b[0m\u001b[0m\n\u001b[1;32m    840\u001b[0m             \u001b[0;32massert\u001b[0m \u001b[0;32mnot\u001b[0m \u001b[0mself\u001b[0m\u001b[0;34m.\u001b[0m\u001b[0m_shutdown\u001b[0m \u001b[0;32mand\u001b[0m \u001b[0mself\u001b[0m\u001b[0;34m.\u001b[0m\u001b[0m_tasks_outstanding\u001b[0m \u001b[0;34m>\u001b[0m \u001b[0;36m0\u001b[0m\u001b[0;34m\u001b[0m\u001b[0;34m\u001b[0m\u001b[0m\n\u001b[0;32m--> 841\u001b[0;31m             \u001b[0midx\u001b[0m\u001b[0;34m,\u001b[0m \u001b[0mdata\u001b[0m \u001b[0;34m=\u001b[0m \u001b[0mself\u001b[0m\u001b[0;34m.\u001b[0m\u001b[0m_get_data\u001b[0m\u001b[0;34m(\u001b[0m\u001b[0;34m)\u001b[0m\u001b[0;34m\u001b[0m\u001b[0;34m\u001b[0m\u001b[0m\n\u001b[0m\u001b[1;32m    842\u001b[0m             \u001b[0mself\u001b[0m\u001b[0;34m.\u001b[0m\u001b[0m_tasks_outstanding\u001b[0m \u001b[0;34m-=\u001b[0m \u001b[0;36m1\u001b[0m\u001b[0;34m\u001b[0m\u001b[0;34m\u001b[0m\u001b[0m\n\u001b[1;32m    843\u001b[0m \u001b[0;34m\u001b[0m\u001b[0m\n",
      "\u001b[0;32m~/.local/lib/python3.6/site-packages/torch/utils/data/dataloader.py\u001b[0m in \u001b[0;36m_get_data\u001b[0;34m(self)\u001b[0m\n\u001b[1;32m    806\u001b[0m         \u001b[0;32melse\u001b[0m\u001b[0;34m:\u001b[0m\u001b[0;34m\u001b[0m\u001b[0;34m\u001b[0m\u001b[0m\n\u001b[1;32m    807\u001b[0m             \u001b[0;32mwhile\u001b[0m \u001b[0;32mTrue\u001b[0m\u001b[0;34m:\u001b[0m\u001b[0;34m\u001b[0m\u001b[0;34m\u001b[0m\u001b[0m\n\u001b[0;32m--> 808\u001b[0;31m                 \u001b[0msuccess\u001b[0m\u001b[0;34m,\u001b[0m \u001b[0mdata\u001b[0m \u001b[0;34m=\u001b[0m \u001b[0mself\u001b[0m\u001b[0;34m.\u001b[0m\u001b[0m_try_get_data\u001b[0m\u001b[0;34m(\u001b[0m\u001b[0;34m)\u001b[0m\u001b[0;34m\u001b[0m\u001b[0;34m\u001b[0m\u001b[0m\n\u001b[0m\u001b[1;32m    809\u001b[0m                 \u001b[0;32mif\u001b[0m \u001b[0msuccess\u001b[0m\u001b[0;34m:\u001b[0m\u001b[0;34m\u001b[0m\u001b[0;34m\u001b[0m\u001b[0m\n\u001b[1;32m    810\u001b[0m                     \u001b[0;32mreturn\u001b[0m \u001b[0mdata\u001b[0m\u001b[0;34m\u001b[0m\u001b[0;34m\u001b[0m\u001b[0m\n",
      "\u001b[0;32m~/.local/lib/python3.6/site-packages/torch/utils/data/dataloader.py\u001b[0m in \u001b[0;36m_try_get_data\u001b[0;34m(self, timeout)\u001b[0m\n\u001b[1;32m    759\u001b[0m         \u001b[0;31m#   (bool: whether successfully get data, any: data if successful else None)\u001b[0m\u001b[0;34m\u001b[0m\u001b[0;34m\u001b[0m\u001b[0;34m\u001b[0m\u001b[0m\n\u001b[1;32m    760\u001b[0m         \u001b[0;32mtry\u001b[0m\u001b[0;34m:\u001b[0m\u001b[0;34m\u001b[0m\u001b[0;34m\u001b[0m\u001b[0m\n\u001b[0;32m--> 761\u001b[0;31m             \u001b[0mdata\u001b[0m \u001b[0;34m=\u001b[0m \u001b[0mself\u001b[0m\u001b[0;34m.\u001b[0m\u001b[0m_data_queue\u001b[0m\u001b[0;34m.\u001b[0m\u001b[0mget\u001b[0m\u001b[0;34m(\u001b[0m\u001b[0mtimeout\u001b[0m\u001b[0;34m=\u001b[0m\u001b[0mtimeout\u001b[0m\u001b[0;34m)\u001b[0m\u001b[0;34m\u001b[0m\u001b[0;34m\u001b[0m\u001b[0m\n\u001b[0m\u001b[1;32m    762\u001b[0m             \u001b[0;32mreturn\u001b[0m \u001b[0;34m(\u001b[0m\u001b[0;32mTrue\u001b[0m\u001b[0;34m,\u001b[0m \u001b[0mdata\u001b[0m\u001b[0;34m)\u001b[0m\u001b[0;34m\u001b[0m\u001b[0;34m\u001b[0m\u001b[0m\n\u001b[1;32m    763\u001b[0m         \u001b[0;32mexcept\u001b[0m \u001b[0mException\u001b[0m \u001b[0;32mas\u001b[0m \u001b[0me\u001b[0m\u001b[0;34m:\u001b[0m\u001b[0;34m\u001b[0m\u001b[0;34m\u001b[0m\u001b[0m\n",
      "\u001b[0;32m/usr/lib/python3.6/multiprocessing/queues.py\u001b[0m in \u001b[0;36mget\u001b[0;34m(self, block, timeout)\u001b[0m\n\u001b[1;32m    102\u001b[0m                 \u001b[0;32mif\u001b[0m \u001b[0mblock\u001b[0m\u001b[0;34m:\u001b[0m\u001b[0;34m\u001b[0m\u001b[0;34m\u001b[0m\u001b[0m\n\u001b[1;32m    103\u001b[0m                     \u001b[0mtimeout\u001b[0m \u001b[0;34m=\u001b[0m \u001b[0mdeadline\u001b[0m \u001b[0;34m-\u001b[0m \u001b[0mtime\u001b[0m\u001b[0;34m.\u001b[0m\u001b[0mmonotonic\u001b[0m\u001b[0;34m(\u001b[0m\u001b[0;34m)\u001b[0m\u001b[0;34m\u001b[0m\u001b[0;34m\u001b[0m\u001b[0m\n\u001b[0;32m--> 104\u001b[0;31m                     \u001b[0;32mif\u001b[0m \u001b[0;32mnot\u001b[0m \u001b[0mself\u001b[0m\u001b[0;34m.\u001b[0m\u001b[0m_poll\u001b[0m\u001b[0;34m(\u001b[0m\u001b[0mtimeout\u001b[0m\u001b[0;34m)\u001b[0m\u001b[0;34m:\u001b[0m\u001b[0;34m\u001b[0m\u001b[0;34m\u001b[0m\u001b[0m\n\u001b[0m\u001b[1;32m    105\u001b[0m                         \u001b[0;32mraise\u001b[0m \u001b[0mEmpty\u001b[0m\u001b[0;34m\u001b[0m\u001b[0;34m\u001b[0m\u001b[0m\n\u001b[1;32m    106\u001b[0m                 \u001b[0;32melif\u001b[0m \u001b[0;32mnot\u001b[0m \u001b[0mself\u001b[0m\u001b[0;34m.\u001b[0m\u001b[0m_poll\u001b[0m\u001b[0;34m(\u001b[0m\u001b[0;34m)\u001b[0m\u001b[0;34m:\u001b[0m\u001b[0;34m\u001b[0m\u001b[0;34m\u001b[0m\u001b[0m\n",
      "\u001b[0;32m/usr/lib/python3.6/multiprocessing/connection.py\u001b[0m in \u001b[0;36mpoll\u001b[0;34m(self, timeout)\u001b[0m\n\u001b[1;32m    255\u001b[0m         \u001b[0mself\u001b[0m\u001b[0;34m.\u001b[0m\u001b[0m_check_closed\u001b[0m\u001b[0;34m(\u001b[0m\u001b[0;34m)\u001b[0m\u001b[0;34m\u001b[0m\u001b[0;34m\u001b[0m\u001b[0m\n\u001b[1;32m    256\u001b[0m         \u001b[0mself\u001b[0m\u001b[0;34m.\u001b[0m\u001b[0m_check_readable\u001b[0m\u001b[0;34m(\u001b[0m\u001b[0;34m)\u001b[0m\u001b[0;34m\u001b[0m\u001b[0;34m\u001b[0m\u001b[0m\n\u001b[0;32m--> 257\u001b[0;31m         \u001b[0;32mreturn\u001b[0m \u001b[0mself\u001b[0m\u001b[0;34m.\u001b[0m\u001b[0m_poll\u001b[0m\u001b[0;34m(\u001b[0m\u001b[0mtimeout\u001b[0m\u001b[0;34m)\u001b[0m\u001b[0;34m\u001b[0m\u001b[0;34m\u001b[0m\u001b[0m\n\u001b[0m\u001b[1;32m    258\u001b[0m \u001b[0;34m\u001b[0m\u001b[0m\n\u001b[1;32m    259\u001b[0m     \u001b[0;32mdef\u001b[0m \u001b[0m__enter__\u001b[0m\u001b[0;34m(\u001b[0m\u001b[0mself\u001b[0m\u001b[0;34m)\u001b[0m\u001b[0;34m:\u001b[0m\u001b[0;34m\u001b[0m\u001b[0;34m\u001b[0m\u001b[0m\n",
      "\u001b[0;32m/usr/lib/python3.6/multiprocessing/connection.py\u001b[0m in \u001b[0;36m_poll\u001b[0;34m(self, timeout)\u001b[0m\n\u001b[1;32m    412\u001b[0m \u001b[0;34m\u001b[0m\u001b[0m\n\u001b[1;32m    413\u001b[0m     \u001b[0;32mdef\u001b[0m \u001b[0m_poll\u001b[0m\u001b[0;34m(\u001b[0m\u001b[0mself\u001b[0m\u001b[0;34m,\u001b[0m \u001b[0mtimeout\u001b[0m\u001b[0;34m)\u001b[0m\u001b[0;34m:\u001b[0m\u001b[0;34m\u001b[0m\u001b[0;34m\u001b[0m\u001b[0m\n\u001b[0;32m--> 414\u001b[0;31m         \u001b[0mr\u001b[0m \u001b[0;34m=\u001b[0m \u001b[0mwait\u001b[0m\u001b[0;34m(\u001b[0m\u001b[0;34m[\u001b[0m\u001b[0mself\u001b[0m\u001b[0;34m]\u001b[0m\u001b[0;34m,\u001b[0m \u001b[0mtimeout\u001b[0m\u001b[0;34m)\u001b[0m\u001b[0;34m\u001b[0m\u001b[0;34m\u001b[0m\u001b[0m\n\u001b[0m\u001b[1;32m    415\u001b[0m         \u001b[0;32mreturn\u001b[0m \u001b[0mbool\u001b[0m\u001b[0;34m(\u001b[0m\u001b[0mr\u001b[0m\u001b[0;34m)\u001b[0m\u001b[0;34m\u001b[0m\u001b[0;34m\u001b[0m\u001b[0m\n\u001b[1;32m    416\u001b[0m \u001b[0;34m\u001b[0m\u001b[0m\n",
      "\u001b[0;32m/usr/lib/python3.6/multiprocessing/connection.py\u001b[0m in \u001b[0;36mwait\u001b[0;34m(object_list, timeout)\u001b[0m\n\u001b[1;32m    909\u001b[0m \u001b[0;34m\u001b[0m\u001b[0m\n\u001b[1;32m    910\u001b[0m             \u001b[0;32mwhile\u001b[0m \u001b[0;32mTrue\u001b[0m\u001b[0;34m:\u001b[0m\u001b[0;34m\u001b[0m\u001b[0;34m\u001b[0m\u001b[0m\n\u001b[0;32m--> 911\u001b[0;31m                 \u001b[0mready\u001b[0m \u001b[0;34m=\u001b[0m \u001b[0mselector\u001b[0m\u001b[0;34m.\u001b[0m\u001b[0mselect\u001b[0m\u001b[0;34m(\u001b[0m\u001b[0mtimeout\u001b[0m\u001b[0;34m)\u001b[0m\u001b[0;34m\u001b[0m\u001b[0;34m\u001b[0m\u001b[0m\n\u001b[0m\u001b[1;32m    912\u001b[0m                 \u001b[0;32mif\u001b[0m \u001b[0mready\u001b[0m\u001b[0;34m:\u001b[0m\u001b[0;34m\u001b[0m\u001b[0;34m\u001b[0m\u001b[0m\n\u001b[1;32m    913\u001b[0m                     \u001b[0;32mreturn\u001b[0m \u001b[0;34m[\u001b[0m\u001b[0mkey\u001b[0m\u001b[0;34m.\u001b[0m\u001b[0mfileobj\u001b[0m \u001b[0;32mfor\u001b[0m \u001b[0;34m(\u001b[0m\u001b[0mkey\u001b[0m\u001b[0;34m,\u001b[0m \u001b[0mevents\u001b[0m\u001b[0;34m)\u001b[0m \u001b[0;32min\u001b[0m \u001b[0mready\u001b[0m\u001b[0;34m]\u001b[0m\u001b[0;34m\u001b[0m\u001b[0;34m\u001b[0m\u001b[0m\n",
      "\u001b[0;32m/usr/lib/python3.6/selectors.py\u001b[0m in \u001b[0;36mselect\u001b[0;34m(self, timeout)\u001b[0m\n\u001b[1;32m    374\u001b[0m             \u001b[0mready\u001b[0m \u001b[0;34m=\u001b[0m \u001b[0;34m[\u001b[0m\u001b[0;34m]\u001b[0m\u001b[0;34m\u001b[0m\u001b[0;34m\u001b[0m\u001b[0m\n\u001b[1;32m    375\u001b[0m             \u001b[0;32mtry\u001b[0m\u001b[0;34m:\u001b[0m\u001b[0;34m\u001b[0m\u001b[0;34m\u001b[0m\u001b[0m\n\u001b[0;32m--> 376\u001b[0;31m                 \u001b[0mfd_event_list\u001b[0m \u001b[0;34m=\u001b[0m \u001b[0mself\u001b[0m\u001b[0;34m.\u001b[0m\u001b[0m_poll\u001b[0m\u001b[0;34m.\u001b[0m\u001b[0mpoll\u001b[0m\u001b[0;34m(\u001b[0m\u001b[0mtimeout\u001b[0m\u001b[0;34m)\u001b[0m\u001b[0;34m\u001b[0m\u001b[0;34m\u001b[0m\u001b[0m\n\u001b[0m\u001b[1;32m    377\u001b[0m             \u001b[0;32mexcept\u001b[0m \u001b[0mInterruptedError\u001b[0m\u001b[0;34m:\u001b[0m\u001b[0;34m\u001b[0m\u001b[0;34m\u001b[0m\u001b[0m\n\u001b[1;32m    378\u001b[0m                 \u001b[0;32mreturn\u001b[0m \u001b[0mready\u001b[0m\u001b[0;34m\u001b[0m\u001b[0;34m\u001b[0m\u001b[0m\n",
      "\u001b[0;31mKeyboardInterrupt\u001b[0m: "
     ]
    }
   ],
   "source": [
    "model_type = \"resnet18\"\n",
    "\n",
    "for bounds in similarity_bounds:\n",
    "    for encoder in encoders:\n",
    "        dataset_path = f'data/butter_proc_images_{encoder[1]}_{bounds[0]}_{bounds[1]}/'\n",
    "        dataloaders, dataset_sizes, class_names = get_data(dataset_path)\n",
    "        model, criterion, optimizer_ft, exp_lr_scheduler = get_model_and_parameters(model_type)\n",
    "        \n",
    "        print(f'\\n ########## Encoder ({encoder[1]}) with similarity bounds ({bounds[0]}) and ({bounds[1]}) ##########\\n')\n",
    "        \n",
    "        # Carbon footprint measurement\n",
    "        cumulator = base.Cumulator()\n",
    "        cumulator.on()\n",
    "        \n",
    "        # Training model\n",
    "        model_trained, losses_tr, losses_val, acc_tr, acc_val = train_model(model, criterion, optimizer_ft, exp_lr_scheduler,\n",
    "                                    num_epochs=25)\n",
    "        cumulator.off()\n",
    "        print(f\"Carbon footprint : {cumulator.total_carbon_footprint():.2f} gCO2eq\")\n",
    "        \n",
    "        # Saving model\n",
    "        torch.save(model.state_dict(), f\"models/similarity/{model_type}_natural_{encoder[1]}_{bounds[0]}_{bounds[1]}\")\n",
    "        \n",
    "        # Plotting\n",
    "        plot(losses_tr, losses_val, 'Training loss', 'Validation loss',\n",
    "             f'Losses {bounds[0]}_{bounds[1]}', \n",
    "             f'figures/losses_{model_type}_natural_{encoder[1]}_{bounds[0]}_{bounds[1]}.png', 'loss')\n",
    "        plot(acc_tr, acc_val, 'Training accuracy', 'Validation accuracy',\n",
    "             f'Accuracy {bounds[0]}_{bounds[1]}',\n",
    "             f'figures/accuracy_{model_type}_natural_{encoder[1]}_{bounds[0]}_{bounds[1]}.png', 'accuracy')"
   ]
  },
  {
   "cell_type": "markdown",
   "metadata": {},
   "source": [
    "## 4. Model testing\n",
    "\n",
    "### 4.1 Loading the model"
   ]
  },
  {
   "cell_type": "code",
   "execution_count": null,
   "metadata": {},
   "outputs": [],
   "source": [
    "def load_model(load_path, device, model_type):\n",
    "    \"\"\"\n",
    "    Load model parameters into the corresponding model \n",
    "    \"\"\"\n",
    "    # Loading model architecture\n",
    "    if(model_type is \"resnet18\"):\n",
    "        model = models.resnet18(pretrained=True)\n",
    "    elif(model_type is \"googlenet\"):\n",
    "        model = models.googlenet(pretrained=True)\n",
    "    else:\n",
    "        raise Error(f\"Model {model_type} is not supported\")\n",
    "        \n",
    "    model = models.resnet18(pretrained=True)\n",
    "    num_ftrs = model.fc.in_features\n",
    "    model.fc = nn.Linear(num_ftrs, 2)\n",
    "\n",
    "    # Loading parameters to the model\n",
    "    model.load_state_dict(torch.load(load_path))\n",
    "    model = model.to(device)\n",
    "    model.eval()\n",
    "    \n",
    "    return model"
   ]
  },
  {
   "cell_type": "markdown",
   "metadata": {},
   "source": [
    "### 4.2 Testing\n",
    "\n",
    "We can only measure our model's extraction power for models where we used the notion of similarity. For our selected test images, we iterate through the corresponding video running each frame into our model. The one frame that achieves highest confidence as a \"True\" image is to be selected. We then compute the similarity between our selected image and the expert one. This measure is our testing metric. The higher, the closer our model as been able to emulate the expert's decision. "
   ]
  },
  {
   "cell_type": "code",
   "execution_count": null,
   "metadata": {},
   "outputs": [],
   "source": [
    "def prepare_for_model(img):\n",
    "    \"\"\"\n",
    "    Read image and apply required transformations for model usage\n",
    "    \"\"\"\n",
    "    # Read, resize and crop\n",
    "    img = resize_crop(img, mask)\n",
    "    \n",
    "    # Transform to PIL format\n",
    "    img = Image.fromarray(img)\n",
    "    \n",
    "    # Images transformations to apply before entering model\n",
    "    transform = transforms.Compose([\n",
    "                    transforms.Resize(256),\n",
    "                    transforms.CenterCrop(224),\n",
    "                    transforms.ToTensor(),\n",
    "                    transforms.Normalize([0.485, 0.456, 0.406], [0.229, 0.224, 0.225])])\n",
    "    \n",
    "    return transform(img)\n",
    "\n",
    "\n",
    "def test_model(model, test_folder_path, encoder):\n",
    "    \"\"\"\n",
    "    Test the given model on images and videos contained in the given folder, based on a similarity metric\n",
    "    Return the average similarity between expert images and model selectd images from the corresponding videos\n",
    "    \"\"\"\n",
    "    images_path = test_folder_path + 'test/*.png'\n",
    "    images_path = glob.glob(images_path)\n",
    "    \n",
    "    videos_path = test_folder_path + 'test/*.mp4'\n",
    "    videos_path = set(glob.glob(videos_path)) # transformed to set for faster queries\n",
    "    \n",
    "    similarities = []\n",
    "    \n",
    "    # Use model on image every 'skip' frames\n",
    "    skip = 10\n",
    "    \n",
    "    for image_path in images_path:\n",
    "        # Finding corresponding video\n",
    "        success, video_path = find_video(image_path, videos_path)\n",
    "        if(success == True):\n",
    "            # Scanning the video\n",
    "            video = cv2.VideoCapture(video_path)\n",
    "            frame = 0\n",
    "            best_confidence = 0\n",
    "            selected_image = None\n",
    "            while(video.isOpened()):\n",
    "                success, sample_image = video.read()\n",
    "                if(success == True):\n",
    "                    frame += 1\n",
    "                    if(frame % skip == 0):\n",
    "                        # Sampled image goes through the model\n",
    "                        model_image = prepare_for_model(sample_image)\n",
    "                        model_image = torch.unsqueeze(model_image, 0) # adding dummy batch dimension\n",
    "                        model_image = model_image.to(device)\n",
    "                        probabilities = nn.functional.softmax(model(model_image), dim = 1)\n",
    "                        confidence = probabilities[0,1]\n",
    "\n",
    "                        if(confidence >= best_confidence):\n",
    "                            best_confidence = confidence\n",
    "                            selected_image = sample_image.copy()\n",
    "                else:\n",
    "                    video.release()\n",
    "            \n",
    "            # Computing similarity\n",
    "            if selected_image is not None:\n",
    "                exp_image = cv2.imread(image_path)\n",
    "                exp_image_code = encoder(exp_image).reshape(-1)\n",
    "                selected_image_code = encoder(selected_image).reshape(-1)\n",
    "                similarity = cosine_similarity(exp_image_code, selected_image_code)\n",
    "                similarities.append(similarity)\n",
    "    \n",
    "    return np.mean(similarities)"
   ]
  },
  {
   "cell_type": "markdown",
   "metadata": {},
   "source": [
    "Computing average similarity over the test set:"
   ]
  },
  {
   "cell_type": "code",
   "execution_count": null,
   "metadata": {},
   "outputs": [],
   "source": [
    "model_type = \"resnet18\"\n",
    "test_folder_path = \"data/test/\"\n",
    "\n",
    "for bounds in similarity_bounds:\n",
    "    for test_encoder in encoders:\n",
    "        for encoder in encoders:\n",
    "            # Loading model\n",
    "            model_path = f'models/similarity/{model_type}_natural_{encoder[1]}_{bounds[0]}_{bounds[1]}'\n",
    "            model = load_model(model_path, device, model_type)\n",
    "            print(f'\\n ########## Model trained with encoder ({encoder[1]}) and similarity bounds ({bounds[0]}) - ({bounds[1]}), test similarity through {test_encoder[1]} ##########\\n')\n",
    "\n",
    "            # Testing\n",
    "            mean_similarity = test_model(model, test_folder_path, test_encoder[0])\n",
    "            print(f'Mean similarity on test set: {mean_similarity:.4f}')"
   ]
  },
  {
   "cell_type": "code",
   "execution_count": null,
   "metadata": {},
   "outputs": [],
   "source": [
    "def generate_confident_images(model, test_folder_path, write_path):\n",
    "    \"\"\"\n",
    "    Generates images in write_path given the videos in the test_folder_path according given the model.\n",
    "    An image is considered as good if our model is more than 70% confident it's a good image, average between 20%-70%\n",
    "    and bad when it's lower than 20%\n",
    "    \"\"\"   \n",
    "    videos_path = test_folder_path + 'test/*.mp4'\n",
    "    videos_path = glob.glob(videos_path)\n",
    "    \n",
    "    good_counter = 0\n",
    "    avg_counter = 0\n",
    "    bad_counter = 0\n",
    "    \n",
    "    # Use model on image every 'skip' frames\n",
    "    skip = 1\n",
    "    # TODO debug stuff\n",
    "    #images_path = images_path[:3]\n",
    "    #print(images_path)\n",
    "    \n",
    "    for video_path in videos_path:\n",
    "        # Scanning the video\n",
    "        video = cv2.VideoCapture(video_path)\n",
    "        frame = 0\n",
    "        best_confidence = 0\n",
    "        min_best_confidence = 0.7\n",
    "        selected_image = None\n",
    "        average_image = None\n",
    "        bad_image = None\n",
    "        while(video.isOpened()):\n",
    "            success, sample_image = video.read()\n",
    "            if(success == True):\n",
    "                frame += 1\n",
    "                if(frame % skip == 0):\n",
    "                    # Sampled image goes through the model\n",
    "                    model_image = prepare_for_model(sample_image)\n",
    "                    model_image = torch.unsqueeze(model_image, 0) # adding dummy batch dimension\n",
    "                    model_image = model_image.to(device)\n",
    "                    probabilities = nn.functional.softmax(model(model_image), dim = 1)\n",
    "                    confidence = probabilities[0,1]\n",
    "                    if((confidence >= min_best_confidence) and (confidence >= best_confidence)):\n",
    "                        best_confidence = confidence\n",
    "                        selected_image = sample_image.copy()\n",
    "                    \n",
    "                    if((average_image is None) and ((confidence < 0.7) and (confidence > 0.2))):\n",
    "                        average_image = sample_image.copy()\n",
    "                        \n",
    "                    if((bad_image is None) and (confidence < 0.2)):\n",
    "                        bad_image = sample_image.copy()                         \n",
    "            else:\n",
    "                video.release()\n",
    "\n",
    "        # Writing images\n",
    "        image_id = os.path.split(video_path)[-1][:-4] + '.png'\n",
    "        if selected_image is not None:\n",
    "            good_counter +=1\n",
    "            cv2.imwrite(f\"{write_path}best/{image_id}\", resize_crop(selected_image, mask))\n",
    "        \n",
    "        if average_image is not None:\n",
    "            avg_counter +=1\n",
    "            cv2.imwrite(f\"{write_path}average/{image_id}\", resize_crop(average_image, mask))\n",
    "        \n",
    "        if bad_image is not None:\n",
    "            bad_counter +=1\n",
    "            cv2.imwrite(f\"{write_path}bad/{image_id}\", resize_crop(bad_image, mask))\n",
    "            \n",
    "    print(\"Good\", good_counter)\n",
    "    print(\"Average\", avg_counter)\n",
    "    print(\"Bad\", bad_counter)"
   ]
  },
  {
   "cell_type": "markdown",
   "metadata": {},
   "source": [
    "We need to create a folder where to put the selected images"
   ]
  },
  {
   "cell_type": "code",
   "execution_count": null,
   "metadata": {},
   "outputs": [],
   "source": [
    "! mkdir data/selected_images\n",
    "! mkdir data/selected_images/best\n",
    "! mkdir data/selected_images/average\n",
    "! mkdir data/selected_images/bad"
   ]
  },
  {
   "cell_type": "code",
   "execution_count": null,
   "metadata": {},
   "outputs": [],
   "source": [
    "model_path = f'models/similarity/resnet18_natural_cnn_0.8_0.9'\n",
    "model = load_model(model_path, device, model_type)\n",
    "generate_confident_images(model, test_folder_path, 'data/selected_images/')"
   ]
  },
  {
   "cell_type": "code",
   "execution_count": null,
   "metadata": {},
   "outputs": [],
   "source": [
    "#Test the brightness model\n",
    "\n",
    "model_path = f'models/mean_brightness/{model_type}_natural_mean_brightness'\n",
    "model = load_model(model_path, device, model_type)\n",
    "\n",
    "print(f'\\n ########## Model trained using mean dataset brightness ##########\\n')\n",
    "generate_confident_images(model, test_folder_path, 'data/selected_images/')"
   ]
  },
  {
   "cell_type": "code",
   "execution_count": null,
   "metadata": {},
   "outputs": [],
   "source": [
    "#Test on all the model created with the similarity\n",
    "for bounds in similarity_bounds:\n",
    "    for encoder in encoders:\n",
    "        # Loading model\n",
    "        model_path = f'models/similarity/{model_type}_natural_{encoder[1]}_{bounds[0]}_{bounds[1]}'\n",
    "        model = load_model(model_path, device, model_type)\n",
    "        print(f'\\n ########## Model trained with encoder ({encoder[1]}) and similarity bounds ({bounds[0]}) - ({bounds[1]}) ##########\\n')\n",
    "        generate_confident_images(model, test_folder_path, 'data/selected_images/')"
   ]
  },
  {
   "cell_type": "code",
   "execution_count": null,
   "metadata": {},
   "outputs": [],
   "source": [
    "def give_confidence_test_set_images(model, test_folder_path):\n",
    "    \"\"\"\n",
    "    Prints the score of our model on the test images (Which are all good)\n",
    "    \"\"\"   \n",
    "    images_path = test_folder_path + 'test/*.png'\n",
    "    images_path = glob.glob(images_path)\n",
    "    \n",
    "    \n",
    "    # Use model on image every 'skip' frames\n",
    "    skip = 10\n",
    "    # TODO debug stuff\n",
    "    #images_path = images_path[:3]\n",
    "    #print(images_path)\n",
    "    \n",
    "    good_counter = 0\n",
    "    avg_counter = 0\n",
    "    bad_counter = 0\n",
    "    \n",
    "    for image_path in images_path:\n",
    "        sample_image = cv2.imread(image_path)\n",
    "        # Sampled image goes through the model\n",
    "        model_image = prepare_for_model(sample_image)\n",
    "        model_image = torch.unsqueeze(model_image, 0) # adding dummy batch dimension\n",
    "        model_image = model_image.to(device)\n",
    "        probabilities = nn.functional.softmax(model(model_image), dim = 1)\n",
    "        confidence = probabilities[0,1]\n",
    "        \n",
    "        if confidence > 0.7:\n",
    "            good_counter += 1\n",
    "        elif confidence < 0.2:\n",
    "            bad_counter +=1\n",
    "        else:\n",
    "            avg_counter += 1\n",
    "            \n",
    "    print(\"Good\", good_counter)\n",
    "    print(\"Average\", avg_counter)\n",
    "    print(\"Bad\", bad_counter)"
   ]
  },
  {
   "cell_type": "code",
   "execution_count": null,
   "metadata": {},
   "outputs": [],
   "source": [
    "model_path = f'models/similarity/resnet18_natural_brightMat_0.85_0.95'\n",
    "model = load_model(model_path, device, model_type)\n",
    "give_confidence_test_set_images(model, test_folder_path)"
   ]
  },
  {
   "cell_type": "code",
   "execution_count": null,
   "metadata": {},
   "outputs": [],
   "source": [
    "model_path = f'models/similarity/resnet18_natural_cnn_0.75_0.85'\n",
    "model = load_model(model_path, device, model_type)\n",
    "give_confidence_test_set_images(model, test_folder_path)"
   ]
  },
  {
   "cell_type": "code",
   "execution_count": null,
   "metadata": {},
   "outputs": [],
   "source": [
    "model_path = f'models/similarity/resnet18_natural_cnn_0.8_0.9'\n",
    "model = load_model(model_path, device, model_type)\n",
    "give_confidence_test_set_images(model, test_folder_path)"
   ]
  },
  {
   "cell_type": "code",
   "execution_count": null,
   "metadata": {},
   "outputs": [],
   "source": [
    "cnn = CnnEncoder()\n",
    "cnn = cnn.eval()\n",
    "img1 = cnn(cv2.imread('data/Ultrason_butterflynetwork/1.21_QLD.png')).reshape(-1)\n",
    "\n",
    "img2 = (np.random.rand(len(img1)) * 256).reshape(-1)\n",
    "cosine_similarity(img1, img2)"
   ]
  },
  {
   "cell_type": "code",
   "execution_count": null,
   "metadata": {},
   "outputs": [],
   "source": [
    "image_test = cv2.imread('data/test/test/1.16_QAID.png')\n",
    "image_test = resize_crop(image_test, mask)\n",
    "cv2.imwrite('image_test.png', image_test)"
   ]
  },
  {
   "cell_type": "code",
   "execution_count": null,
   "metadata": {},
   "outputs": [],
   "source": [
    "img1 = cv2.imread('data/test/test/1.16_QAID.png')\n",
    "img1.resize(1080,792,3)\n",
    "print(len(img1.flatten()))\n",
    "cosine_similarity(img1[500,200:210,0].reshape(-1), image_test[500,200:210,0].reshape(-1))"
   ]
  },
  {
   "cell_type": "code",
   "execution_count": null,
   "metadata": {},
   "outputs": [],
   "source": [
    "img1 = cv2.imread('data/test/test/1.16_QAID.png')\n",
    "img1[500,200:210,0]"
   ]
  },
  {
   "cell_type": "code",
   "execution_count": null,
   "metadata": {},
   "outputs": [],
   "source": [
    "image_test[500,200:210,0]"
   ]
  },
  {
   "cell_type": "code",
   "execution_count": null,
   "metadata": {},
   "outputs": [],
   "source": [
    "img1 = cv2.imread('data/test/test/1.16_QAID.png')\n",
    "print(img1.shape)\n",
    "print(img1[400,200:210,0])\n",
    "img1.sum()"
   ]
  },
  {
   "cell_type": "code",
   "execution_count": null,
   "metadata": {},
   "outputs": [],
   "source": [
    "img1.resize(1080,792,3)\n",
    "print(img1.shape)\n",
    "print(img1[400,200:210,0])\n",
    "img1.sum()"
   ]
  },
  {
   "cell_type": "code",
   "execution_count": null,
   "metadata": {},
   "outputs": [],
   "source": []
  }
 ],
 "metadata": {
  "colab": {
   "collapsed_sections": [],
   "name": "lus.ipynb",
   "provenance": []
  },
  "kernelspec": {
   "display_name": "Python 3",
   "language": "python",
   "name": "python3"
  },
  "language_info": {
   "codemirror_mode": {
    "name": "ipython",
    "version": 3
   },
   "file_extension": ".py",
   "mimetype": "text/x-python",
   "name": "python",
   "nbconvert_exporter": "python",
   "pygments_lexer": "ipython3",
   "version": "3.7.6"
  }
 },
 "nbformat": 4,
 "nbformat_minor": 4
}
